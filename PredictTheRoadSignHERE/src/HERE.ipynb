{
 "cells": [
  {
   "cell_type": "code",
   "execution_count": 2,
   "metadata": {
    "collapsed": false,
    "deletable": true,
    "editable": true
   },
   "outputs": [],
   "source": [
    "import pandas as pd\n",
    "import numpy as np\n",
    "import matplotlib.pyplot as plt\n",
    "from matplotlib import interactive\n",
    "interactive(True)\n",
    "import seaborn\n",
    "from sklearn import preprocessing\n",
    "from sklearn.model_selection import train_test_split\n",
    "from sklearn.ensemble import RandomForestClassifier\n",
    "from sklearn.neural_network import MLPClassifier\n",
    "from sklearn.metrics import accuracy_score\n",
    "from sklearn.metrics import confusion_matrix\n",
    "from sklearn import model_selection\n",
    "import xgboost as xgb\n",
    "import math\n",
    "from sklearn.grid_search import GridSearchCV"
   ]
  },
  {
   "cell_type": "code",
   "execution_count": 44,
   "metadata": {
    "collapsed": false,
    "deletable": true,
    "editable": true
   },
   "outputs": [],
   "source": [
    "TRAINING_DATA_FILE = './../data/train.csv'\n",
    "TEST_DATA_FILE = './../data/test.csv'\n",
    "\n",
    "df_train = pd.DataFrame.from_csv(TRAINING_DATA_FILE)\n",
    "\n",
    "df_test = pd.DataFrame.from_csv(TEST_DATA_FILE)"
   ]
  },
  {
   "cell_type": "code",
   "execution_count": 45,
   "metadata": {
    "collapsed": false,
    "deletable": true,
    "editable": true
   },
   "outputs": [
    {
     "data": {
      "text/html": [
       "<div>\n",
       "<style>\n",
       "    .dataframe thead tr:only-child th {\n",
       "        text-align: right;\n",
       "    }\n",
       "\n",
       "    .dataframe thead th {\n",
       "        text-align: left;\n",
       "    }\n",
       "\n",
       "    .dataframe tbody tr th {\n",
       "        vertical-align: top;\n",
       "    }\n",
       "</style>\n",
       "<table border=\"1\" class=\"dataframe\">\n",
       "  <thead>\n",
       "    <tr style=\"text-align: right;\">\n",
       "      <th></th>\n",
       "      <th>DetectedCamera</th>\n",
       "      <th>AngleOfSign</th>\n",
       "      <th>SignAspectRatio</th>\n",
       "      <th>SignWidth</th>\n",
       "      <th>SignHeight</th>\n",
       "      <th>SignFacing (Target)</th>\n",
       "    </tr>\n",
       "    <tr>\n",
       "      <th>Id</th>\n",
       "      <th></th>\n",
       "      <th></th>\n",
       "      <th></th>\n",
       "      <th></th>\n",
       "      <th></th>\n",
       "      <th></th>\n",
       "    </tr>\n",
       "  </thead>\n",
       "  <tbody>\n",
       "    <tr>\n",
       "      <th>2c9180975a056a64015a1e0a52e57021</th>\n",
       "      <td>Rear</td>\n",
       "      <td>195</td>\n",
       "      <td>1.02</td>\n",
       "      <td>46</td>\n",
       "      <td>45</td>\n",
       "      <td>Rear</td>\n",
       "    </tr>\n",
       "    <tr>\n",
       "      <th>2c9180975a056a64015a1e17b32171e4</th>\n",
       "      <td>Rear</td>\n",
       "      <td>203</td>\n",
       "      <td>1.09</td>\n",
       "      <td>59</td>\n",
       "      <td>54</td>\n",
       "      <td>Rear</td>\n",
       "    </tr>\n",
       "    <tr>\n",
       "      <th>2c9180975a056a64015a1de4deb16bd5</th>\n",
       "      <td>Front</td>\n",
       "      <td>26</td>\n",
       "      <td>0.96</td>\n",
       "      <td>104</td>\n",
       "      <td>108</td>\n",
       "      <td>Front</td>\n",
       "    </tr>\n",
       "    <tr>\n",
       "      <th>2c9180975a056a64015a1de4deb16bdd</th>\n",
       "      <td>Rear</td>\n",
       "      <td>199</td>\n",
       "      <td>0.81</td>\n",
       "      <td>38</td>\n",
       "      <td>47</td>\n",
       "      <td>Rear</td>\n",
       "    </tr>\n",
       "    <tr>\n",
       "      <th>2c9180975a056a64015a1de4deb16bd6</th>\n",
       "      <td>Rear</td>\n",
       "      <td>208</td>\n",
       "      <td>0.93</td>\n",
       "      <td>54</td>\n",
       "      <td>58</td>\n",
       "      <td>Rear</td>\n",
       "    </tr>\n",
       "  </tbody>\n",
       "</table>\n",
       "</div>"
      ],
      "text/plain": [
       "                                 DetectedCamera  AngleOfSign  SignAspectRatio  \\\n",
       "Id                                                                              \n",
       "2c9180975a056a64015a1e0a52e57021           Rear          195             1.02   \n",
       "2c9180975a056a64015a1e17b32171e4           Rear          203             1.09   \n",
       "2c9180975a056a64015a1de4deb16bd5          Front           26             0.96   \n",
       "2c9180975a056a64015a1de4deb16bdd           Rear          199             0.81   \n",
       "2c9180975a056a64015a1de4deb16bd6           Rear          208             0.93   \n",
       "\n",
       "                                  SignWidth  SignHeight SignFacing (Target)  \n",
       "Id                                                                           \n",
       "2c9180975a056a64015a1e0a52e57021         46          45                Rear  \n",
       "2c9180975a056a64015a1e17b32171e4         59          54                Rear  \n",
       "2c9180975a056a64015a1de4deb16bd5        104         108               Front  \n",
       "2c9180975a056a64015a1de4deb16bdd         38          47                Rear  \n",
       "2c9180975a056a64015a1de4deb16bd6         54          58                Rear  "
      ]
     },
     "execution_count": 45,
     "metadata": {},
     "output_type": "execute_result"
    }
   ],
   "source": [
    "df_train.head()"
   ]
  },
  {
   "cell_type": "code",
   "execution_count": null,
   "metadata": {
    "collapsed": true,
    "deletable": true,
    "editable": true
   },
   "outputs": [],
   "source": [
    "# def print_full(x):\n",
    "#     pd.set_option('display.max_rows', len(x))\n",
    "#     print(x)\n",
    "#     pd.reset_option('display.max_rows')\n",
    "\n",
    "# nans = df_train.shape[0] - df_train.dropna().shape[0]\n",
    "# print (\"%d rows have missing values in the train data\" %nans)\n",
    "# nand = df_test.shape[0] - df_test.dropna().shape[0]\n",
    "# print (\"%d rows have missing values in the test data\" %nand)\n",
    "\n",
    "# pd.crosstab(df_train.DetectedCamera, df_train['SignFacing (Target)'], margins=True)"
   ]
  },
  {
   "cell_type": "code",
   "execution_count": null,
   "metadata": {
    "collapsed": false,
    "deletable": true,
    "editable": true,
    "scrolled": true
   },
   "outputs": [],
   "source": [
    "def plot_dataframe(df_train, y):\n",
    "    df_train['SignFacing (Target) Encoded'] = y\n",
    "    fig = plt.figure(figsize=(18, 80), dpi=80)\n",
    "    colors = ['b', 'g', 'r', 'y']\n",
    "    labels = ['Front Facing', 'Left Facing', 'Rear Facing', 'Right Facing']\n",
    "    columns = 2\n",
    "    df_train_bkp = df_train\n",
    "    rows = int(len(df_train.columns)/columns) + 1\n",
    "    for idx, _ in enumerate(df_train.columns.tolist()):\n",
    "        subplot = fig.add_subplot(rows, columns, idx+1)\n",
    "        fr = subplot.scatter(\n",
    "            df_train[_][df_train['SignFacing (Target) Encoded']==0], \n",
    "            df_train['SignFacing (Target) Encoded'][df_train['SignFacing (Target) Encoded']==0], \n",
    "            color=colors[0],\n",
    "            marker='x'\n",
    "        )\n",
    "        le = subplot.scatter(\n",
    "            df_train[_][df_train['SignFacing (Target) Encoded']==1], \n",
    "            df_train['SignFacing (Target) Encoded'][df_train['SignFacing (Target) Encoded']==1], \n",
    "            color=colors[1],\n",
    "            marker='x'\n",
    "        )\n",
    "        re = subplot.scatter(\n",
    "            df_train[_][df_train['SignFacing (Target) Encoded']==2], \n",
    "            df_train['SignFacing (Target) Encoded'][df_train['SignFacing (Target) Encoded']==2], \n",
    "            color=colors[2],\n",
    "            marker='x'\n",
    "        )\n",
    "        ri = subplot.scatter(\n",
    "            df_train[_][df_train['SignFacing (Target) Encoded']==3], \n",
    "            df_train['SignFacing (Target) Encoded'][df_train['SignFacing (Target) Encoded']==3], \n",
    "            color=colors[3],\n",
    "            marker='x'\n",
    "        )\n",
    "        subplot.legend((fr, le, re, ri),\n",
    "                  labels,\n",
    "                  scatterpoints=1)\n",
    "        subplot.set_xlabel(_)\n",
    "        subplot.set_ylabel('Sign Facing')\n",
    "        subplot.title.set_text(_ + ' vs Sign Facing')\n",
    "    plt.show()\n",
    "plot_dataframe(X, y)"
   ]
  },
  {
   "cell_type": "code",
   "execution_count": null,
   "metadata": {
    "collapsed": false,
    "deletable": true,
    "editable": true
   },
   "outputs": [],
   "source": [
    "import math\n",
    "for elem in df_train.columns.tolist():\n",
    "    print(elem)\n",
    "    try:\n",
    "        df_train[elem].plot.hist()\n",
    "    except:\n",
    "        continue"
   ]
  },
  {
   "cell_type": "code",
   "execution_count": 46,
   "metadata": {
    "collapsed": true,
    "deletable": true,
    "editable": true
   },
   "outputs": [],
   "source": [
    "for x in df_train.columns:\n",
    "    if df_train[x].dtype == 'object':\n",
    "        lbl = preprocessing.LabelEncoder()\n",
    "        lbl.fit(list(df_train[x].values))\n",
    "        df_train[x + ' Encoded'] = lbl.transform(list(df_train[x].values))"
   ]
  },
  {
   "cell_type": "code",
   "execution_count": 47,
   "metadata": {
    "collapsed": false,
    "deletable": true,
    "editable": true
   },
   "outputs": [
    {
     "name": "stderr",
     "output_type": "stream",
     "text": [
      "/Users/shams/anaconda/lib/python3.5/site-packages/ipykernel/__main__.py:2: SettingWithCopyWarning: \n",
      "A value is trying to be set on a copy of a slice from a DataFrame\n",
      "\n",
      "See the caveats in the documentation: http://pandas.pydata.org/pandas-docs/stable/indexing.html#indexing-view-versus-copy\n",
      "  from ipykernel import kernelapp as app\n"
     ]
    }
   ],
   "source": [
    "df_train['camera_angle'] = 360 - df_train['DetectedCamera Encoded'] * 90\n",
    "df_train.camera_angle[df_train['camera_angle'] == 360] = 0\n",
    "df_train['angle_of_sign'] = pd.Series((df_train.AngleOfSign - df_train.camera_angle)).astype('float')\n",
    "# df_train['aspect_ratio_exp'] = np.power(10, df_train['SignAspectRatio'])\n",
    "# df_train['cos_AngleOfSign'] = df_train.AngleOfSign.apply((lambda x: math.cos(x * math.pi/180)))\n",
    "# df_train['sin_AngleOfSign'] = df_train.AngleOfSign.apply((lambda x: math.sin(x * math.pi/180)))\n",
    "# df_train['cos_angle'] = df_train.angle_of_sign.apply(lambda x: math.cos(x * math.pi/180))\n",
    "# df_train['sin_angle'] = df_train.angle_of_sign.apply(lambda x: math.sin(x * math.pi/180))\n",
    "# df_train['cos_SignWidth'] = df_train.cos_angle * df_train.SignWidth\n",
    "# df_train['sin_SignWidth'] = df_train.sin_angle * df_train.SignWidth\n",
    "# df_train['cos_AspectRatio'] = df_train.cos_SignWidth * df_train.cos_angle\n",
    "# df_train['sin_AspectRatio'] = df_train.sin_SignWidth * df_train.cos_angle\n",
    "# df_train['sign_area'] = df_train.SignHeight * df_train.SignWidth\n",
    "# df_train['cos_sign_area'] = df_train.SignHeight * df_train.cos_SignWidth\n",
    "# df_train['sin_sign_area'] = df_train.SignHeight * df_train.sin_SignWidth\n",
    "df_train['sign_impossible'] = df_train['DetectedCamera Encoded'].apply(lambda x : int((x+2)%4))\n",
    "\n",
    "y = df_train['SignFacing (Target) Encoded']"
   ]
  },
  {
   "cell_type": "code",
   "execution_count": 48,
   "metadata": {
    "collapsed": false,
    "deletable": true,
    "editable": true
   },
   "outputs": [
    {
     "data": {
      "text/html": [
       "<div>\n",
       "<style>\n",
       "    .dataframe thead tr:only-child th {\n",
       "        text-align: right;\n",
       "    }\n",
       "\n",
       "    .dataframe thead th {\n",
       "        text-align: left;\n",
       "    }\n",
       "\n",
       "    .dataframe tbody tr th {\n",
       "        vertical-align: top;\n",
       "    }\n",
       "</style>\n",
       "<table border=\"1\" class=\"dataframe\">\n",
       "  <thead>\n",
       "    <tr style=\"text-align: right;\">\n",
       "      <th></th>\n",
       "      <th>DetectedCamera</th>\n",
       "      <th>AngleOfSign</th>\n",
       "      <th>SignAspectRatio</th>\n",
       "      <th>SignWidth</th>\n",
       "      <th>SignHeight</th>\n",
       "      <th>SignFacing (Target)</th>\n",
       "      <th>DetectedCamera Encoded</th>\n",
       "      <th>SignFacing (Target) Encoded</th>\n",
       "      <th>camera_angle</th>\n",
       "      <th>angle_of_sign</th>\n",
       "      <th>aspect_ratio_exp</th>\n",
       "      <th>sign_impossible</th>\n",
       "    </tr>\n",
       "    <tr>\n",
       "      <th>Id</th>\n",
       "      <th></th>\n",
       "      <th></th>\n",
       "      <th></th>\n",
       "      <th></th>\n",
       "      <th></th>\n",
       "      <th></th>\n",
       "      <th></th>\n",
       "      <th></th>\n",
       "      <th></th>\n",
       "      <th></th>\n",
       "      <th></th>\n",
       "      <th></th>\n",
       "    </tr>\n",
       "  </thead>\n",
       "  <tbody>\n",
       "    <tr>\n",
       "      <th>2c9180975a056a64015a1e0a52e57021</th>\n",
       "      <td>Rear</td>\n",
       "      <td>195</td>\n",
       "      <td>1.02</td>\n",
       "      <td>46</td>\n",
       "      <td>45</td>\n",
       "      <td>Rear</td>\n",
       "      <td>2</td>\n",
       "      <td>2</td>\n",
       "      <td>180</td>\n",
       "      <td>15.0</td>\n",
       "      <td>10.471285</td>\n",
       "      <td>0</td>\n",
       "    </tr>\n",
       "    <tr>\n",
       "      <th>2c9180975a056a64015a1e17b32171e4</th>\n",
       "      <td>Rear</td>\n",
       "      <td>203</td>\n",
       "      <td>1.09</td>\n",
       "      <td>59</td>\n",
       "      <td>54</td>\n",
       "      <td>Rear</td>\n",
       "      <td>2</td>\n",
       "      <td>2</td>\n",
       "      <td>180</td>\n",
       "      <td>23.0</td>\n",
       "      <td>12.302688</td>\n",
       "      <td>0</td>\n",
       "    </tr>\n",
       "    <tr>\n",
       "      <th>2c9180975a056a64015a1de4deb16bd5</th>\n",
       "      <td>Front</td>\n",
       "      <td>26</td>\n",
       "      <td>0.96</td>\n",
       "      <td>104</td>\n",
       "      <td>108</td>\n",
       "      <td>Front</td>\n",
       "      <td>0</td>\n",
       "      <td>0</td>\n",
       "      <td>0</td>\n",
       "      <td>26.0</td>\n",
       "      <td>9.120108</td>\n",
       "      <td>2</td>\n",
       "    </tr>\n",
       "    <tr>\n",
       "      <th>2c9180975a056a64015a1de4deb16bdd</th>\n",
       "      <td>Rear</td>\n",
       "      <td>199</td>\n",
       "      <td>0.81</td>\n",
       "      <td>38</td>\n",
       "      <td>47</td>\n",
       "      <td>Rear</td>\n",
       "      <td>2</td>\n",
       "      <td>2</td>\n",
       "      <td>180</td>\n",
       "      <td>19.0</td>\n",
       "      <td>6.456542</td>\n",
       "      <td>0</td>\n",
       "    </tr>\n",
       "    <tr>\n",
       "      <th>2c9180975a056a64015a1de4deb16bd6</th>\n",
       "      <td>Rear</td>\n",
       "      <td>208</td>\n",
       "      <td>0.93</td>\n",
       "      <td>54</td>\n",
       "      <td>58</td>\n",
       "      <td>Rear</td>\n",
       "      <td>2</td>\n",
       "      <td>2</td>\n",
       "      <td>180</td>\n",
       "      <td>28.0</td>\n",
       "      <td>8.511380</td>\n",
       "      <td>0</td>\n",
       "    </tr>\n",
       "  </tbody>\n",
       "</table>\n",
       "</div>"
      ],
      "text/plain": [
       "                                 DetectedCamera  AngleOfSign  SignAspectRatio  \\\n",
       "Id                                                                              \n",
       "2c9180975a056a64015a1e0a52e57021           Rear          195             1.02   \n",
       "2c9180975a056a64015a1e17b32171e4           Rear          203             1.09   \n",
       "2c9180975a056a64015a1de4deb16bd5          Front           26             0.96   \n",
       "2c9180975a056a64015a1de4deb16bdd           Rear          199             0.81   \n",
       "2c9180975a056a64015a1de4deb16bd6           Rear          208             0.93   \n",
       "\n",
       "                                  SignWidth  SignHeight SignFacing (Target)  \\\n",
       "Id                                                                            \n",
       "2c9180975a056a64015a1e0a52e57021         46          45                Rear   \n",
       "2c9180975a056a64015a1e17b32171e4         59          54                Rear   \n",
       "2c9180975a056a64015a1de4deb16bd5        104         108               Front   \n",
       "2c9180975a056a64015a1de4deb16bdd         38          47                Rear   \n",
       "2c9180975a056a64015a1de4deb16bd6         54          58                Rear   \n",
       "\n",
       "                                  DetectedCamera Encoded  \\\n",
       "Id                                                         \n",
       "2c9180975a056a64015a1e0a52e57021                       2   \n",
       "2c9180975a056a64015a1e17b32171e4                       2   \n",
       "2c9180975a056a64015a1de4deb16bd5                       0   \n",
       "2c9180975a056a64015a1de4deb16bdd                       2   \n",
       "2c9180975a056a64015a1de4deb16bd6                       2   \n",
       "\n",
       "                                  SignFacing (Target) Encoded  camera_angle  \\\n",
       "Id                                                                            \n",
       "2c9180975a056a64015a1e0a52e57021                            2           180   \n",
       "2c9180975a056a64015a1e17b32171e4                            2           180   \n",
       "2c9180975a056a64015a1de4deb16bd5                            0             0   \n",
       "2c9180975a056a64015a1de4deb16bdd                            2           180   \n",
       "2c9180975a056a64015a1de4deb16bd6                            2           180   \n",
       "\n",
       "                                  angle_of_sign  aspect_ratio_exp  \\\n",
       "Id                                                                  \n",
       "2c9180975a056a64015a1e0a52e57021           15.0         10.471285   \n",
       "2c9180975a056a64015a1e17b32171e4           23.0         12.302688   \n",
       "2c9180975a056a64015a1de4deb16bd5           26.0          9.120108   \n",
       "2c9180975a056a64015a1de4deb16bdd           19.0          6.456542   \n",
       "2c9180975a056a64015a1de4deb16bd6           28.0          8.511380   \n",
       "\n",
       "                                  sign_impossible  \n",
       "Id                                                 \n",
       "2c9180975a056a64015a1e0a52e57021                0  \n",
       "2c9180975a056a64015a1e17b32171e4                0  \n",
       "2c9180975a056a64015a1de4deb16bd5                2  \n",
       "2c9180975a056a64015a1de4deb16bdd                0  \n",
       "2c9180975a056a64015a1de4deb16bd6                0  "
      ]
     },
     "execution_count": 48,
     "metadata": {},
     "output_type": "execute_result"
    }
   ],
   "source": [
    "df_train.head()"
   ]
  },
  {
   "cell_type": "code",
   "execution_count": 49,
   "metadata": {
    "collapsed": false,
    "deletable": true,
    "editable": true
   },
   "outputs": [],
   "source": [
    "# pd.set_option('display.max_columns', 100)\n",
    "# print(df_train.head())\n",
    "# pd.reset_option('display.max_rows')"
   ]
  },
  {
   "cell_type": "code",
   "execution_count": 50,
   "metadata": {
    "collapsed": false,
    "deletable": true,
    "editable": true
   },
   "outputs": [],
   "source": [
    "X = df_train.drop(['DetectedCamera', \n",
    "                   'SignFacing (Target)', \n",
    "                   'SignFacing (Target) Encoded', \n",
    "#                    'camera_angle',\n",
    "#                    'SignWidth',\n",
    "#                    'sin_AspectRatio',\n",
    "#                    'cos_sign_area',\n",
    "#                    'sign_impossible', \n",
    "#                    'DetectedCamera Encoded', \n",
    "#                    'sin_angle',\n",
    "#                    'angle_of_sign',\n",
    "#                    'sin_AspectRatio',\n",
    "#                    'cos_angle',\n",
    "#                    'sin_AngleOfSign',\n",
    "#                    'SignWidth',\n",
    "                  ], axis=1, inplace=False)\n",
    "\n",
    "# df_train.corr()\n",
    "\n",
    "# X_train,X_valid,y_train,y_valid = train_test_split(X,y,test_size=0.3,random_state=1,stratify=y)\n",
    "X_train, y_train = X, y"
   ]
  },
  {
   "cell_type": "code",
   "execution_count": 51,
   "metadata": {
    "collapsed": true,
    "deletable": true,
    "editable": true
   },
   "outputs": [],
   "source": [
    "df_train_front = df_train.loc[df_train['DetectedCamera Encoded'] == 0]\n",
    "y_front = df_train_front['SignFacing (Target) Encoded']\n",
    "X_front = df_train_front.drop(['DetectedCamera', \n",
    "                   'SignFacing (Target)', \n",
    "                   'SignFacing (Target) Encoded', \n",
    "                ], axis=1, inplace=False)\n",
    "df_train_left = df_train.loc[df_train['DetectedCamera Encoded'] == 1]\n",
    "y_left = df_train_left['SignFacing (Target) Encoded']\n",
    "X_left = df_train_left.drop(['DetectedCamera', \n",
    "                   'SignFacing (Target)', \n",
    "                   'SignFacing (Target) Encoded', \n",
    "                ], axis=1, inplace=False)\n",
    "df_train_rear = df_train.loc[df_train['DetectedCamera Encoded'] == 2]\n",
    "y_rear = df_train_rear['SignFacing (Target) Encoded']\n",
    "X_rear = df_train_rear.drop(['DetectedCamera', \n",
    "                   'SignFacing (Target)', \n",
    "                   'SignFacing (Target) Encoded', \n",
    "                ], axis=1, inplace=False)\n",
    "df_train_right = df_train.loc[df_train['DetectedCamera Encoded'] == 3]\n",
    "y_right = df_train_right['SignFacing (Target) Encoded']\n",
    "X_right = df_train_right.drop(['DetectedCamera', \n",
    "                   'SignFacing (Target)', \n",
    "                   'SignFacing (Target) Encoded', \n",
    "                ], axis=1, inplace=False)"
   ]
  },
  {
   "cell_type": "code",
   "execution_count": 15,
   "metadata": {
    "collapsed": false,
    "deletable": true,
    "editable": true
   },
   "outputs": [],
   "source": [
    "# X_train_front, X_valid_front,y_train_front,y_valid_front = train_test_split(X_front,y_front,test_size=0.3,random_state=1,stratify=y_front)\n",
    "# X_train_left, X_valid_left,y_train_left,y_valid_left = train_test_split(X_left,y_left,test_size=0.3,random_state=1,stratify=y_left)\n",
    "# X_train_rear, X_valid_rear,y_train_rear,y_valid_rear = train_test_split(X_rear,y_rear,test_size=0.3,random_state=1,stratify=y_rear)\n",
    "# X_train_right, X_valid_right,y_train_right,y_valid_right = train_test_split(X_right,y_right,test_size=0.3,random_state=1,stratify=y_right)"
   ]
  },
  {
   "cell_type": "code",
   "execution_count": 52,
   "metadata": {
    "collapsed": true,
    "deletable": true,
    "editable": true
   },
   "outputs": [],
   "source": [
    "X_train_front, y_train_front = X_front,y_front\n",
    "X_train_left,y_train_left = X_left,y_left\n",
    "X_train_rear,y_train_rear = X_rear,y_rear\n",
    "X_train_right,y_train_right = X_right,y_right"
   ]
  },
  {
   "cell_type": "code",
   "execution_count": null,
   "metadata": {
    "collapsed": false,
    "deletable": true,
    "editable": true
   },
   "outputs": [],
   "source": [
    "# clf = RandomForestClassifier(\n",
    "#     n_estimators = 1200, \n",
    "#     max_depth = 9, \n",
    "#     max_features=0.2, \n",
    "#     min_samples_leaf=100, \n",
    "#     random_state=42,\n",
    "#     oob_score=True\n",
    "# )\n",
    "# clf.fit(X_train,y_train)\n",
    "\n",
    "# print ('The accuracy of RandomForrest is {}'.format(accuracy_score(clf.predict(X_valid), y_valid)))"
   ]
  },
  {
   "cell_type": "code",
   "execution_count": 53,
   "metadata": {
    "collapsed": false,
    "deletable": true,
    "editable": true
   },
   "outputs": [
    {
     "name": "stdout",
     "output_type": "stream",
     "text": [
      "[0]\ttrain-mlogloss:1.36794\n",
      "Will train until train-mlogloss hasn't improved in 50 rounds.\n",
      "[50]\ttrain-mlogloss:0.773245\n",
      "[100]\ttrain-mlogloss:0.484606\n",
      "[150]\ttrain-mlogloss:0.325848\n",
      "[200]\ttrain-mlogloss:0.234218\n",
      "[250]\ttrain-mlogloss:0.17986\n",
      "[300]\ttrain-mlogloss:0.14747\n",
      "[350]\ttrain-mlogloss:0.127918\n",
      "[400]\ttrain-mlogloss:0.115899\n",
      "[450]\ttrain-mlogloss:0.108566\n",
      "[500]\ttrain-mlogloss:0.103874\n",
      "[550]\ttrain-mlogloss:0.100801\n",
      "[600]\ttrain-mlogloss:0.098595\n",
      "[650]\ttrain-mlogloss:0.097011\n",
      "[700]\ttrain-mlogloss:0.095826\n",
      "[750]\ttrain-mlogloss:0.094834\n",
      "[800]\ttrain-mlogloss:0.09401\n",
      "[850]\ttrain-mlogloss:0.09326\n",
      "[900]\ttrain-mlogloss:0.09259\n",
      "[950]\ttrain-mlogloss:0.091975\n",
      "[1000]\ttrain-mlogloss:0.091412\n",
      "[1050]\ttrain-mlogloss:0.090839\n",
      "[1100]\ttrain-mlogloss:0.090258\n"
     ]
    }
   ],
   "source": [
    "# import xgboost as xgb\n",
    "# Set our parameters for xgboost\n",
    "params = {}\n",
    "params['objective'] = 'multi:softprob'\n",
    "params['eval_metric'] = 'mlogloss'\n",
    "params['eta'] = 0.01\n",
    "params['num_class'] = 4\n",
    "params['n_estimators'] = 10000\n",
    "params['max_depth'] = 4 # or 5\n",
    "params['min_child_weight'] = 4 # or 1\n",
    "params['gamma'] = 0.4 # or 0\n",
    "params['subsample'] = 0.8\n",
    "params['colsample_bytree'] = 0.75 # or 0.8\n",
    "params['nthread'] = 4\n",
    "params['scale_pos_weight'] = 1\n",
    "params['seed'] = 1\n",
    "# params['reg_alpha'] = 0.05\n",
    "\n",
    "\n",
    "# d_train = xgb.DMatrix(X_train, label=y_train)\n",
    "# d_valid = xgb.DMatrix(X_valid, label=y_valid)\n",
    "d_train = xgb.DMatrix(X_train, label=y_train)\n",
    "# watchlist = [(d_train, 'train'), (d_valid, 'valid')]\n",
    "watchlist = [(d_train, 'train')]\n",
    "\n",
    "bst = xgb.train(params, d_train, 1110, watchlist, early_stopping_rounds=50, verbose_eval=50)\n",
    "\n",
    "# prediction = np.argmax(bst.predict(d_valid), axis=1)\n",
    "# acc =  accuracy_score(np.array(y_valid),prediction)\n",
    "# print ('The accuracy of XGBoost is {}'.format(acc))"
   ]
  },
  {
   "cell_type": "code",
   "execution_count": 54,
   "metadata": {
    "collapsed": false,
    "deletable": true,
    "editable": true
   },
   "outputs": [
    {
     "name": "stdout",
     "output_type": "stream",
     "text": [
      "[0]\ttrain-mlogloss:1.36691\n",
      "Will train until train-mlogloss hasn't improved in 50 rounds.\n",
      "[50]\ttrain-mlogloss:0.740177\n",
      "[100]\ttrain-mlogloss:0.437699\n",
      "[150]\ttrain-mlogloss:0.271342\n",
      "[200]\ttrain-mlogloss:0.175499\n",
      "[250]\ttrain-mlogloss:0.118908\n",
      "[300]\ttrain-mlogloss:0.085066\n",
      "[350]\ttrain-mlogloss:0.064413\n",
      "[400]\ttrain-mlogloss:0.051733\n",
      "[450]\ttrain-mlogloss:0.043888\n",
      "[500]\ttrain-mlogloss:0.038928\n",
      "[550]\ttrain-mlogloss:0.035757\n",
      "[600]\ttrain-mlogloss:0.033597\n",
      "[650]\ttrain-mlogloss:0.032099\n",
      "[700]\ttrain-mlogloss:0.030988\n",
      "[750]\ttrain-mlogloss:0.030104\n",
      "[800]\ttrain-mlogloss:0.029361\n"
     ]
    }
   ],
   "source": [
    "# FRONT\n",
    "# import xgboost as xgb\n",
    "# Set our parameters for xgboost\n",
    "\n",
    "params = {}\n",
    "params['objective'] = 'multi:softprob'\n",
    "params['eval_metric'] = 'mlogloss'\n",
    "params['eta'] = 0.01\n",
    "params['num_class'] = 4\n",
    "params['n_estimators'] = 10000\n",
    "params['max_depth'] = 4 # or 5\n",
    "params['min_child_weight'] = 4 # or 1\n",
    "params['gamma'] = 0.4 # or 0\n",
    "params['subsample'] = 0.8\n",
    "params['colsample_bytree'] = 0.75 # or 0.8\n",
    "params['nthread'] = 4\n",
    "params['scale_pos_weight'] = 1\n",
    "params['seed'] = 1\n",
    "# params['reg_alpha'] = 0.05\n",
    "\n",
    "\n",
    "# d_train = xgb.DMatrix(X_train_front, label=y_train_front)\n",
    "# d_valid = xgb.DMatrix(X_valid_front, label=y_valid_front)\n",
    "d_train = xgb.DMatrix(X_train_front, label=y_train_front)\n",
    "\n",
    "# watchlist = [(d_train, 'train'), (d_valid, 'valid')]\n",
    "watchlist = [(d_train, 'train')]\n",
    "\n",
    "bst_front = xgb.train(params, d_train, 810, watchlist, early_stopping_rounds=50, verbose_eval=50)\n",
    "\n",
    "# prediction = np.argmax(bst_front.predict(d_valid), axis=1)\n",
    "# acc =  accuracy_score(np.array(y_valid_front),prediction)\n",
    "# print ('The accuracy of XGBoost is {}'.format(acc))"
   ]
  },
  {
   "cell_type": "code",
   "execution_count": 55,
   "metadata": {
    "collapsed": false,
    "deletable": true,
    "editable": true
   },
   "outputs": [
    {
     "name": "stdout",
     "output_type": "stream",
     "text": [
      "[0]\ttrain-mlogloss:1.37042\n",
      "Will train until train-mlogloss hasn't improved in 50 rounds.\n",
      "[50]\ttrain-mlogloss:0.812756\n",
      "[100]\ttrain-mlogloss:0.539591\n",
      "[150]\ttrain-mlogloss:0.390218\n",
      "[200]\ttrain-mlogloss:0.302804\n",
      "[250]\ttrain-mlogloss:0.251241\n",
      "[300]\ttrain-mlogloss:0.220194\n",
      "[350]\ttrain-mlogloss:0.201086\n",
      "[400]\ttrain-mlogloss:0.189066\n",
      "[450]\ttrain-mlogloss:0.181176\n",
      "[500]\ttrain-mlogloss:0.175735\n",
      "[550]\ttrain-mlogloss:0.171844\n",
      "[600]\ttrain-mlogloss:0.168875\n",
      "[650]\ttrain-mlogloss:0.166534\n",
      "[700]\ttrain-mlogloss:0.164501\n",
      "[750]\ttrain-mlogloss:0.162683\n"
     ]
    }
   ],
   "source": [
    "# LEFT\n",
    "# import xgboost as xgb\n",
    "# Set our parameters for xgboost\n",
    "\n",
    "params = {}\n",
    "params['objective'] = 'multi:softprob'\n",
    "params['eval_metric'] = 'mlogloss'\n",
    "params['eta'] = 0.01\n",
    "params['num_class'] = 4\n",
    "params['n_estimators'] = 10000\n",
    "params['max_depth'] = 4 # or 5\n",
    "params['min_child_weight'] = 4 # or 1\n",
    "params['gamma'] = 0.4 # or 0\n",
    "params['subsample'] = 0.8\n",
    "params['colsample_bytree'] = 0.75 # or 0.8\n",
    "params['nthread'] = 4\n",
    "params['scale_pos_weight'] = 1\n",
    "params['seed'] = 1\n",
    "# params['reg_alpha'] = 0.05\n",
    "\n",
    "\n",
    "# d_train = xgb.DMatrix(X_train_left, label=y_train_left)\n",
    "# d_valid = xgb.DMatrix(X_valid_left, label=y_valid_left)\n",
    "d_train = xgb.DMatrix(X_train_left, label=y_train_left)\n",
    "# watchlist = [(d_train, 'train'), (d_valid, 'valid')]\n",
    "watchlist = [(d_train, 'train')]\n",
    "\n",
    "bst_left = xgb.train(params, d_train, 790, watchlist, early_stopping_rounds=50, verbose_eval=50)\n",
    "\n",
    "# prediction = np.argmax(bst_left.predict(d_valid), axis=1)\n",
    "# acc =  accuracy_score(np.array(y_valid_left),prediction)\n",
    "# print ('The accuracy of XGBoost is {}'.format(acc))"
   ]
  },
  {
   "cell_type": "code",
   "execution_count": 56,
   "metadata": {
    "collapsed": false,
    "deletable": true,
    "editable": true
   },
   "outputs": [
    {
     "name": "stdout",
     "output_type": "stream",
     "text": [
      "[0]\ttrain-mlogloss:1.36684\n",
      "Will train until train-mlogloss hasn't improved in 50 rounds.\n",
      "[50]\ttrain-mlogloss:0.738746\n",
      "[100]\ttrain-mlogloss:0.435905\n",
      "[150]\ttrain-mlogloss:0.269593\n",
      "[200]\ttrain-mlogloss:0.173848\n",
      "[250]\ttrain-mlogloss:0.117454\n",
      "[300]\ttrain-mlogloss:0.083864\n",
      "[350]\ttrain-mlogloss:0.063636\n",
      "[400]\ttrain-mlogloss:0.051362\n",
      "[450]\ttrain-mlogloss:0.043716\n",
      "[500]\ttrain-mlogloss:0.038844\n",
      "[550]\ttrain-mlogloss:0.035595\n",
      "[600]\ttrain-mlogloss:0.033323\n",
      "[650]\ttrain-mlogloss:0.031648\n",
      "[700]\ttrain-mlogloss:0.030326\n",
      "[750]\ttrain-mlogloss:0.029228\n",
      "[800]\ttrain-mlogloss:0.028312\n"
     ]
    }
   ],
   "source": [
    "# REAR\n",
    "# import xgboost as xgb\n",
    "# Set our parameters for xgboost\n",
    "\n",
    "params = {}\n",
    "params['objective'] = 'multi:softprob'\n",
    "params['eval_metric'] = 'mlogloss'\n",
    "params['eta'] = 0.01\n",
    "params['num_class'] = 4\n",
    "params['n_estimators'] = 10000\n",
    "params['max_depth'] = 4 # or 5\n",
    "params['min_child_weight'] = 4 # or 1\n",
    "params['gamma'] = 0.4 # or 0\n",
    "params['subsample'] = 0.8\n",
    "params['colsample_bytree'] = 0.75 # or 0.8\n",
    "params['nthread'] = 4\n",
    "params['scale_pos_weight'] = 1\n",
    "params['seed'] = 1\n",
    "# params['reg_alpha'] = 0.05\n",
    "\n",
    "\n",
    "# d_train = xgb.DMatrix(X_train_rear, label=y_train_rear)\n",
    "# d_valid = xgb.DMatrix(X_valid_rear, label=y_valid_rear)\n",
    "d_train = xgb.DMatrix(X_train_rear, label=y_train_rear)\n",
    "# watchlist = [(d_train, 'train'), (d_valid, 'valid')]\n",
    "watchlist = [(d_train, 'train')]\n",
    "bst_rear = xgb.train(params, d_train, 830, watchlist, early_stopping_rounds=50, verbose_eval=50)\n",
    "\n",
    "# prediction = np.argmax(bst_rear.predict(d_valid), axis=1)\n",
    "# acc =  accuracy_score(np.array(y_valid_rear),prediction)\n",
    "# print ('The accuracy of XGBoost is {}'.format(acc))"
   ]
  },
  {
   "cell_type": "code",
   "execution_count": 57,
   "metadata": {
    "collapsed": false,
    "deletable": true,
    "editable": true
   },
   "outputs": [
    {
     "name": "stdout",
     "output_type": "stream",
     "text": [
      "[0]\ttrain-mlogloss:1.3683\n",
      "Will train until train-mlogloss hasn't improved in 50 rounds.\n",
      "[50]\ttrain-mlogloss:0.78477\n",
      "[100]\ttrain-mlogloss:0.500271\n",
      "[150]\ttrain-mlogloss:0.342356\n",
      "[200]\ttrain-mlogloss:0.250896\n",
      "[250]\ttrain-mlogloss:0.196773\n",
      "[300]\ttrain-mlogloss:0.163886\n",
      "[350]\ttrain-mlogloss:0.143665\n",
      "[400]\ttrain-mlogloss:0.131026\n",
      "[450]\ttrain-mlogloss:0.122942\n",
      "[500]\ttrain-mlogloss:0.117535\n",
      "[550]\ttrain-mlogloss:0.113868\n",
      "[600]\ttrain-mlogloss:0.111125\n",
      "[650]\ttrain-mlogloss:0.108869\n",
      "[700]\ttrain-mlogloss:0.107112\n",
      "[750]\ttrain-mlogloss:0.105609\n"
     ]
    }
   ],
   "source": [
    "# RIGHT\n",
    "# import xgboost as xgb\n",
    "# Set our parameters for xgboost\n",
    "\n",
    "params = {}\n",
    "params['objective'] = 'multi:softprob'\n",
    "params['eval_metric'] = 'mlogloss'\n",
    "params['eta'] = 0.01\n",
    "params['num_class'] = 4\n",
    "params['n_estimators'] = 10000\n",
    "params['max_depth'] = 4 # or 5\n",
    "params['min_child_weight'] = 4 # or 1\n",
    "params['gamma'] = 0.4 # or 0\n",
    "params['subsample'] = 0.8\n",
    "params['colsample_bytree'] = 0.75 # or 0.8\n",
    "params['nthread'] = 4\n",
    "params['scale_pos_weight'] = 1\n",
    "params['seed'] = 1\n",
    "# params['reg_alpha'] = 0.05\n",
    "\n",
    "\n",
    "# d_train = xgb.DMatrix(X_train_right, label=y_train_right)\n",
    "# d_valid = xgb.DMatrix(X_valid_right, label=y_valid_right)\n",
    "d_train = xgb.DMatrix(X_train_right, label=y_train_right)\n",
    "# watchlist = [(d_train, 'train'), (d_valid, 'valid')]\n",
    "watchlist = [(d_train, 'train')]\n",
    "bst_right = xgb.train(params, d_train, 800, watchlist, early_stopping_rounds=50, verbose_eval=50)\n",
    "\n",
    "# prediction = np.argmax(bst_right.predict(d_valid), axis=1)\n",
    "# acc =  accuracy_score(np.array(y_valid_right),prediction)\n",
    "# print ('The accuracy of XGBoost is {}'.format(acc))"
   ]
  },
  {
   "cell_type": "code",
   "execution_count": null,
   "metadata": {
    "collapsed": false,
    "deletable": true,
    "editable": true
   },
   "outputs": [],
   "source": [
    "# param_test_1 = {\n",
    "#     'max_depth': list(range(3, 10, 2)),\n",
    "#     'min_child_weight': list(range(1, 6, 2))\n",
    "# }\n",
    "# gsearch_1 = GridSearchCV(\n",
    "#     estimator=XGBClassifier(\n",
    "#         learning_rate=0.1,\n",
    "#         n_estimators=140,\n",
    "#         max_depth=5,\n",
    "#         min_child_weight=1,\n",
    "#         gamma=0,\n",
    "#         subsample=0.8,\n",
    "#         colsample_bytree=0.8,\n",
    "#         objective='binary:logistic',\n",
    "#         nthread=4,\n",
    "#         scale_pos_weight=1,\n",
    "#         seed=27\n",
    "#     ),\n",
    "#     param_grid=param_test_1,\n",
    "#     scoring='roc_auc',\n",
    "#     n_jobs=4,\n",
    "#     iid=False,\n",
    "#     cv=5\n",
    "# )\n",
    "# gsearch_1.fit(X_train, y_train)\n",
    "\n",
    "# confusion_matrix(np.array(y_valid),prediction)\n",
    "\n",
    "# from sklearn.neural_network import MLPClassifier\n",
    "\n",
    "# X_train,X_valid,y_train,y_valid = train_test_split(X,y,test_size=0.0001,random_state=1,stratify=y)\n",
    "# mlp = MLPClassifier(\n",
    "#     hidden_layer_sizes=(50,),\n",
    "#     max_iter=1000,\n",
    "#     warm_start=True,\n",
    "#     verbose=True,\n",
    "#     validation_fraction=0.3\n",
    "# )\n",
    "# mlp.fit(X_train, y_train)\n",
    "\n",
    "# accuracy_score(mlp.predict(X_valid), y_valid)\n",
    "\n",
    "# xyz = mlp.predict_proba(X_train)\n",
    "# zyx = mlp.predict_proba(X_valid)\n",
    "# xyz = mlp.predict_proba(X_test)\n",
    "\n",
    "# prediction = clf.predict(X_valid)\n",
    "# acc =  accuracy_score(np.array(y_valid),prediction)\n",
    "# print ('The accuracy of Random Forest is {}'.format(acc))"
   ]
  },
  {
   "cell_type": "code",
   "execution_count": 58,
   "metadata": {
    "collapsed": false,
    "deletable": true,
    "editable": true
   },
   "outputs": [
    {
     "name": "stderr",
     "output_type": "stream",
     "text": [
      "/Users/shams/anaconda/lib/python3.5/site-packages/ipykernel/__main__.py:8: SettingWithCopyWarning: \n",
      "A value is trying to be set on a copy of a slice from a DataFrame\n",
      "\n",
      "See the caveats in the documentation: http://pandas.pydata.org/pandas-docs/stable/indexing.html#indexing-view-versus-copy\n"
     ]
    }
   ],
   "source": [
    "for x in df_test.columns:\n",
    "    if df_test[x].dtype == 'object':\n",
    "        lbl = preprocessing.LabelEncoder()\n",
    "        lbl.fit(list(df_test[x].values))\n",
    "        df_test[x + ' Encoded'] = lbl.transform(list(df_test[x].values))\n",
    "\n",
    "df_test['camera_angle'] = 360 - df_test['DetectedCamera Encoded'] * 90\n",
    "df_test.camera_angle[df_test['camera_angle'] == 360] = 0\n",
    "df_test['angle_of_sign'] = pd.Series((df_test.AngleOfSign- df_test.camera_angle)).astype('float')\n",
    "df_test['aspect_ratio_exp'] = np.power(10, df_test['SignAspectRatio'])\n",
    "# df_test['cos_AngleOfSign'] = df_test.AngleOfSign.apply((lambda x: math.cos(x * math.pi/180)))\n",
    "# df_test['sin_AngleOfSign'] = df_test.AngleOfSign.apply((lambda x: math.sin(x * math.pi/180)))\n",
    "# df_test['cos_angle'] = df_test.angle_of_sign.apply(lambda x: math.cos(x * math.pi/180))\n",
    "# df_test['sin_angle'] = df_test.angle_of_sign.apply(lambda x: math.sin(x * math.pi/180))\n",
    "# df_test['cos_SignWidth'] = df_test.cos_angle * df_test.SignWidth\n",
    "# df_test['sin_SignWidth'] = df_test.sin_angle * df_test.SignWidth\n",
    "# df_test['cos_AspectRatio'] = df_test.cos_SignWidth * df_test.cos_angle\n",
    "# df_test['sin_AspectRatio'] = df_test.sin_SignWidth * df_test.cos_angle\n",
    "# df_test['sign_area'] = df_test.SignHeight * df_test.SignWidth\n",
    "# df_test['cos_sign_area'] = df_test.SignHeight * df_test.cos_SignWidth\n",
    "# df_test['sin_sign_area'] = df_test.SignHeight * df_test.sin_SignWidth\n",
    "df_test['sign_impossible'] = df_test['DetectedCamera Encoded'].apply(lambda x : int((x+2)%4))\n",
    "X_test = df_test.drop(['DetectedCamera', \n",
    "#                        'camera_angle', \n",
    "#                        'DetectedCamera Encoded',\n",
    "#                        'camera_angle',\n",
    "#                        'SignWidth',\n",
    "#                        'sin_AspectRatio',\n",
    "#                        'cos_sign_area',\n",
    "#                        'sign_impossible', \n",
    "#                        'DetectedCamera Encoded', \n",
    "#                        'sin_angle',\n",
    "#                        'angle_of_sign',\n",
    "#                        'sin_AspectRatio',\n",
    "#                        'cos_angle',\n",
    "#                        'sin_AngleOfSign',\n",
    "#                        'SignWidth',\n",
    "                      ], axis=1, inplace=False)"
   ]
  },
  {
   "cell_type": "code",
   "execution_count": 59,
   "metadata": {
    "collapsed": true,
    "deletable": true,
    "editable": true
   },
   "outputs": [],
   "source": [
    "X_test_front = X_test.loc[df_test['DetectedCamera Encoded'] == 0]\n",
    "X_test_left = X_test.loc[df_test['DetectedCamera Encoded'] == 1]\n",
    "X_test_rear = X_test.loc[df_test['DetectedCamera Encoded'] == 2]\n",
    "X_test_right = X_test.loc[df_test['DetectedCamera Encoded'] == 3]"
   ]
  },
  {
   "cell_type": "code",
   "execution_count": 60,
   "metadata": {
    "collapsed": false,
    "deletable": true,
    "editable": true
   },
   "outputs": [],
   "source": [
    "d_test = xgb.DMatrix(X_test)\n",
    "p_test = bst.predict(d_test)"
   ]
  },
  {
   "cell_type": "code",
   "execution_count": 61,
   "metadata": {
    "collapsed": false,
    "deletable": true,
    "editable": true
   },
   "outputs": [],
   "source": [
    "d_test = xgb.DMatrix(X_test_front)\n",
    "p_test_front = bst_front.predict(d_test)\n",
    "d_test = xgb.DMatrix(X_test_left)\n",
    "p_test_left = bst_left.predict(d_test)\n",
    "d_test = xgb.DMatrix(X_test_rear)\n",
    "p_test_rear = bst_rear.predict(d_test)\n",
    "d_test = xgb.DMatrix(X_test_right)\n",
    "p_test_right = bst_right.predict(d_test)"
   ]
  },
  {
   "cell_type": "code",
   "execution_count": 62,
   "metadata": {
    "collapsed": false,
    "deletable": true,
    "editable": true
   },
   "outputs": [
    {
     "data": {
      "text/plain": [
       "(31485, 1)"
      ]
     },
     "execution_count": 62,
     "metadata": {},
     "output_type": "execute_result"
    }
   ],
   "source": [
    "z = np.array(X_test.index.tolist())\n",
    "z = z.reshape(z.shape[0], 1)\n",
    "z.shape"
   ]
  },
  {
   "cell_type": "code",
   "execution_count": 63,
   "metadata": {
    "collapsed": true,
    "deletable": true,
    "editable": true
   },
   "outputs": [],
   "source": [
    "z_front = np.array(X_test_front.index.tolist())\n",
    "z_front = z_front.reshape(z_front.shape[0], 1)\n",
    "z_left = np.array(X_test_left.index.tolist())\n",
    "z_left = z_left.reshape(z_left.shape[0], 1)\n",
    "z_rear = np.array(X_test_rear.index.tolist())\n",
    "z_rear = z_rear.reshape(z_rear.shape[0], 1)\n",
    "z_right = np.array(X_test_right.index.tolist())\n",
    "z_right = z_right.reshape(z_right.shape[0], 1)"
   ]
  },
  {
   "cell_type": "code",
   "execution_count": null,
   "metadata": {
    "collapsed": false,
    "deletable": true,
    "editable": true
   },
   "outputs": [],
   "source": [
    "# test_scores = clf.predict_proba(X_test)"
   ]
  },
  {
   "cell_type": "code",
   "execution_count": 64,
   "metadata": {
    "collapsed": false,
    "deletable": true,
    "editable": true
   },
   "outputs": [],
   "source": [
    "z_front = np.concatenate((z_front, p_test_front), 1)\n",
    "z_left = np.concatenate((z_left, p_test_left), 1)\n",
    "z_rear = np.concatenate((z_rear, p_test_rear), 1)\n",
    "z_right = np.concatenate((z_right, p_test_right), 1)"
   ]
  },
  {
   "cell_type": "code",
   "execution_count": 65,
   "metadata": {
    "collapsed": false,
    "deletable": true,
    "editable": true
   },
   "outputs": [],
   "source": [
    "# z2 = np.concatenate((z, xyz), 1)\n",
    "# z1 = np.concatenate((z, test_scores), 1)\n",
    "z = np.concatenate((z, p_test), 1)"
   ]
  },
  {
   "cell_type": "code",
   "execution_count": null,
   "metadata": {
    "collapsed": false,
    "deletable": true,
    "editable": true
   },
   "outputs": [],
   "source": [
    "p_test_rear.shape\n"
   ]
  },
  {
   "cell_type": "code",
   "execution_count": null,
   "metadata": {
    "collapsed": false,
    "deletable": true,
    "editable": true
   },
   "outputs": [],
   "source": [
    "z_front[:,1] = z_front[:, 1].astype(float) + z_front[:, 3].astype(float)\n",
    "z_front[:, 3] = 0"
   ]
  },
  {
   "cell_type": "code",
   "execution_count": null,
   "metadata": {
    "collapsed": false,
    "deletable": true,
    "editable": true
   },
   "outputs": [],
   "source": [
    "z_front"
   ]
  },
  {
   "cell_type": "code",
   "execution_count": null,
   "metadata": {
    "collapsed": true,
    "deletable": true,
    "editable": true
   },
   "outputs": [],
   "source": [
    "z_left[:,2] = z_left[:, 2].astype(float) + z_left[:, 4].astype(float)\n",
    "z_left[:, 4] = 0\n",
    "z_rear[:,3] = z_rear[:, 3].astype(float) + z_rear[:, 1].astype(float)\n",
    "z_rear[:, 1] = 0\n",
    "z_right[:,4] = z_right[:, 4].astype(float) + z_right[:, 2].astype(float)\n",
    "z_right[:, 2] = 0"
   ]
  },
  {
   "cell_type": "code",
   "execution_count": 68,
   "metadata": {
    "collapsed": false,
    "deletable": true,
    "editable": true
   },
   "outputs": [],
   "source": [
    "z = np.concatenate((z_front, z_left, z_rear, z_right), 0)"
   ]
  },
  {
   "cell_type": "code",
   "execution_count": 69,
   "metadata": {
    "collapsed": false,
    "deletable": true,
    "editable": true
   },
   "outputs": [],
   "source": [
    "df = pd.DataFrame(z, columns=['Id', 'Front', 'Left', 'Rear', 'Right'])\n",
    "# df1 = pd.DataFrame(z1, columns=['Id', 'Front', 'Left', 'Rear', 'Right'])\n",
    "# df2 = pd.DataFrame(z2, columns=['Id', 'Front', 'Left', 'Rear', 'Right'])"
   ]
  },
  {
   "cell_type": "code",
   "execution_count": 70,
   "metadata": {
    "collapsed": false,
    "deletable": true,
    "editable": true
   },
   "outputs": [],
   "source": [
    "df.to_csv('xgb_0.96_new.csv', index=None)\n",
    "# df1.to_csv('rdf_0.96.csv')\n",
    "# df2.to_csv('mlp_0.96.csv')"
   ]
  },
  {
   "cell_type": "code",
   "execution_count": 71,
   "metadata": {
    "collapsed": false,
    "deletable": true,
    "editable": true
   },
   "outputs": [
    {
     "data": {
      "text/plain": [
       "<matplotlib.axes._subplots.AxesSubplot at 0x115ed44a8>"
      ]
     },
     "execution_count": 71,
     "metadata": {},
     "output_type": "execute_result"
    },
    {
     "data": {
      "image/png": "[encoded data removed]",
      "text/plain": [
       "<matplotlib.figure.Figure at 0x112cc6e10>"
      ]
     },
     "metadata": {},
     "output_type": "display_data"
    }
   ],
   "source": [
    "import matplotlib.pyplot as plt \n",
    "xgb.plot_importance(bst)\n",
    "# plt.show()"
   ]
  },
  {
   "cell_type": "code",
   "execution_count": null,
   "metadata": {
    "collapsed": false,
    "deletable": true,
    "editable": true
   },
   "outputs": [],
   "source": [
    "plt.show()"
   ]
  },
  {
   "cell_type": "code",
   "execution_count": null,
   "metadata": {
    "collapsed": true,
    "deletable": true,
    "editable": true
   },
   "outputs": [],
   "source": []
  }
 ],
 "metadata": {
  "kernelspec": {
   "display_name": "Python 3",
   "language": "python",
   "name": "python3"
  },
  "language_info": {
   "codemirror_mode": {
    "name": "ipython",
    "version": 3
   },
   "file_extension": ".py",
   "mimetype": "text/x-python",
   "name": "python",
   "nbconvert_exporter": "python",
   "pygments_lexer": "ipython3",
   "version": "3.5.2"
  }
 },
 "nbformat": 4,
 "nbformat_minor": 2
}

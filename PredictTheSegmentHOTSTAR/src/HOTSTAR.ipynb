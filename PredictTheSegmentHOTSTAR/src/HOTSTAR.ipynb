{
 "cells": [
  {
   "cell_type": "code",
   "execution_count": 1,
   "metadata": {
    "collapsed": false,
    "deletable": true,
    "editable": true
   },
   "outputs": [],
   "source": [
    "import numpy as np\n",
    "import pandas as pd\n",
    "import re\n",
    "import statistics as stats\n",
    "import matplotlib.pyplot as plt\n",
    "from tqdm import tqdm"
   ]
  },
  {
   "cell_type": "code",
   "execution_count": 2,
   "metadata": {
    "collapsed": false,
    "deletable": true,
    "editable": true
   },
   "outputs": [],
   "source": [
    "TRAINING_DATA_FILE = './../data/train_data.json'\n",
    "TEST_DATA_FILE = './../data/test_data.json'"
   ]
  },
  {
   "cell_type": "code",
   "execution_count": 3,
   "metadata": {
    "collapsed": false,
    "deletable": true,
    "editable": true
   },
   "outputs": [],
   "source": [
    "train_data = pd.read_json(TRAINING_DATA_FILE, orient=\"index\")\n",
    "test_data = pd.read_json(TEST_DATA_FILE, orient='index')"
   ]
  },
  {
   "cell_type": "code",
   "execution_count": 4,
   "metadata": {
    "collapsed": false,
    "deletable": true,
    "editable": true
   },
   "outputs": [],
   "source": [
    "#set index\n",
    "train_data.reset_index(level = 0, inplace = True)\n",
    "train_data.rename(columns={'index':'ID'}, inplace=True)\n",
    "\n",
    "test_data.reset_index(level = 0, inplace = True)\n",
    "test_data.rename(columns={'index':'ID'}, inplace=True)"
   ]
  },
  {
   "cell_type": "code",
   "execution_count": 5,
   "metadata": {
    "collapsed": false
   },
   "outputs": [],
   "source": [
    "tr = train_data\n",
    "te = test_data\n",
    "# train_data = tr\n",
    "# test_data = te"
   ]
  },
  {
   "cell_type": "code",
   "execution_count": 6,
   "metadata": {
    "collapsed": false,
    "deletable": true,
    "editable": true
   },
   "outputs": [
    {
     "data": {
      "text/html": [
       "<div>\n",
       "<style>\n",
       "    .dataframe thead tr:only-child th {\n",
       "        text-align: right;\n",
       "    }\n",
       "\n",
       "    .dataframe thead th {\n",
       "        text-align: left;\n",
       "    }\n",
       "\n",
       "    .dataframe tbody tr th {\n",
       "        vertical-align: top;\n",
       "    }\n",
       "</style>\n",
       "<table border=\"1\" class=\"dataframe\">\n",
       "  <thead>\n",
       "    <tr style=\"text-align: right;\">\n",
       "      <th></th>\n",
       "      <th>ID</th>\n",
       "      <th>cities</th>\n",
       "      <th>dow</th>\n",
       "      <th>genres</th>\n",
       "      <th>segment</th>\n",
       "      <th>titles</th>\n",
       "      <th>tod</th>\n",
       "    </tr>\n",
       "  </thead>\n",
       "  <tbody>\n",
       "    <tr>\n",
       "      <th>0</th>\n",
       "      <td>train-1</td>\n",
       "      <td>gurgaon:55494,delhi:31892</td>\n",
       "      <td>1:3412,3:15878,2:1737,5:10975,4:20974,7:17820,...</td>\n",
       "      <td>Cricket:82379,Kabaddi:255,Reality:4751</td>\n",
       "      <td>neg</td>\n",
       "      <td>Top Raids: Haryana vs Services SCB:103,Day 4: ...</td>\n",
       "      <td>10:26,13:331,12:323,20:21864,21:16233,17:7953,...</td>\n",
       "    </tr>\n",
       "    <tr>\n",
       "      <th>1</th>\n",
       "      <td>train-10</td>\n",
       "      <td>delhi:5862,nagar:8916,mumbai:1593</td>\n",
       "      <td>1:5745,3:3025,2:3346,5:123,4:3007,7:1108,6:10</td>\n",
       "      <td>Cricket:15640,Wildlife:730</td>\n",
       "      <td>neg</td>\n",
       "      <td>Dhoni Quits Captaincy:148,Day 4: India Move in...</td>\n",
       "      <td>11:1661,10:384,20:401,21:798,22:221,16:525,19:...</td>\n",
       "    </tr>\n",
       "    <tr>\n",
       "      <th>2</th>\n",
       "      <td>train-100</td>\n",
       "      <td>navi mumbai:4142</td>\n",
       "      <td>3:4142</td>\n",
       "      <td>LiveTV:13,Football:4129</td>\n",
       "      <td>neg</td>\n",
       "      <td>Star Sports 4:13,Manchester United vs Everton:...</td>\n",
       "      <td>1:1207,0:2406,2:529</td>\n",
       "    </tr>\n",
       "    <tr>\n",
       "      <th>3</th>\n",
       "      <td>train-1000</td>\n",
       "      <td>new delhi:4131,chennai:2878,navi mumbai:1339</td>\n",
       "      <td>1:658,3:5867,5:413,4:1339,7:71</td>\n",
       "      <td>TalkShow:658,Cricket:7690</td>\n",
       "      <td>neg</td>\n",
       "      <td>SRH vs RCB:701,KKR vs KXIP:1042,MI vs SRH:2288...</td>\n",
       "      <td>11:71,20:2417,21:1042,23:2288,19:1872,8:658</td>\n",
       "    </tr>\n",
       "    <tr>\n",
       "      <th>4</th>\n",
       "      <td>train-10000</td>\n",
       "      <td>gurgaon:6077,chennai:4055</td>\n",
       "      <td>1:1641,2:480,4:1445,7:1663,6:4900</td>\n",
       "      <td>Drama:5503,Cricket:3283,Reality:1345</td>\n",
       "      <td>neg</td>\n",
       "      <td>MI vs KKR:304,Yeh Rishta Kya Kehlata Hai:5449,...</td>\n",
       "      <td>20:158,22:4139,17:67,23:1510,19:288,18:56,0:23...</td>\n",
       "    </tr>\n",
       "  </tbody>\n",
       "</table>\n",
       "</div>"
      ],
      "text/plain": [
       "            ID                                        cities  \\\n",
       "0      train-1                     gurgaon:55494,delhi:31892   \n",
       "1     train-10             delhi:5862,nagar:8916,mumbai:1593   \n",
       "2    train-100                              navi mumbai:4142   \n",
       "3   train-1000  new delhi:4131,chennai:2878,navi mumbai:1339   \n",
       "4  train-10000                     gurgaon:6077,chennai:4055   \n",
       "\n",
       "                                                 dow  \\\n",
       "0  1:3412,3:15878,2:1737,5:10975,4:20974,7:17820,...   \n",
       "1      1:5745,3:3025,2:3346,5:123,4:3007,7:1108,6:10   \n",
       "2                                             3:4142   \n",
       "3                     1:658,3:5867,5:413,4:1339,7:71   \n",
       "4                  1:1641,2:480,4:1445,7:1663,6:4900   \n",
       "\n",
       "                                   genres segment  \\\n",
       "0  Cricket:82379,Kabaddi:255,Reality:4751     neg   \n",
       "1              Cricket:15640,Wildlife:730     neg   \n",
       "2                 LiveTV:13,Football:4129     neg   \n",
       "3               TalkShow:658,Cricket:7690     neg   \n",
       "4    Drama:5503,Cricket:3283,Reality:1345     neg   \n",
       "\n",
       "                                              titles  \\\n",
       "0  Top Raids: Haryana vs Services SCB:103,Day 4: ...   \n",
       "1  Dhoni Quits Captaincy:148,Day 4: India Move in...   \n",
       "2  Star Sports 4:13,Manchester United vs Everton:...   \n",
       "3  SRH vs RCB:701,KKR vs KXIP:1042,MI vs SRH:2288...   \n",
       "4  MI vs KKR:304,Yeh Rishta Kya Kehlata Hai:5449,...   \n",
       "\n",
       "                                                 tod  \n",
       "0  10:26,13:331,12:323,20:21864,21:16233,17:7953,...  \n",
       "1  11:1661,10:384,20:401,21:798,22:221,16:525,19:...  \n",
       "2                                1:1207,0:2406,2:529  \n",
       "3        11:71,20:2417,21:1042,23:2288,19:1872,8:658  \n",
       "4  20:158,22:4139,17:67,23:1510,19:288,18:56,0:23...  "
      ]
     },
     "execution_count": 6,
     "metadata": {},
     "output_type": "execute_result"
    }
   ],
   "source": [
    "train_data.head()"
   ]
  },
  {
   "cell_type": "code",
   "execution_count": 7,
   "metadata": {
    "collapsed": false,
    "deletable": true,
    "editable": true
   },
   "outputs": [
    {
     "name": "stdout",
     "output_type": "stream",
     "text": [
      "Train data has 200000 rows and 7 columns\n",
      "test_data data has 100000 rows and 6 columns\n"
     ]
    }
   ],
   "source": [
    "#check data\n",
    "print ('Train data has {} rows and {} columns'.format(train_data.shape[0],train_data.shape[1]))\n",
    "print ('test_data data has {} rows and {} columns'.format(test_data.shape[0],test_data.shape[1]))"
   ]
  },
  {
   "cell_type": "code",
   "execution_count": 8,
   "metadata": {
    "collapsed": false,
    "deletable": true,
    "editable": true
   },
   "outputs": [],
   "source": [
    "#Encode Target Variable\n",
    "train_data = train_data.replace({'segment':{'pos':1,'neg':0}})"
   ]
  },
  {
   "cell_type": "code",
   "execution_count": 9,
   "metadata": {
    "collapsed": false,
    "deletable": true,
    "editable": true
   },
   "outputs": [
    {
     "data": {
      "image/png": "[encoded data removed]",
      "text/plain": [
       "<matplotlib.figure.Figure at 0x10cef85f8>"
      ]
     },
     "metadata": {},
     "output_type": "display_data"
    }
   ],
   "source": [
    "#check target variable count\n",
    "train_data['segment'].value_counts().plot(kind='bar')\n",
    "plt.show()"
   ]
  },
  {
   "cell_type": "code",
   "execution_count": 10,
   "metadata": {
    "collapsed": false,
    "deletable": true,
    "editable": true
   },
   "outputs": [],
   "source": [
    "columns = train_data.columns\n",
    "# columns = ['cities', 'dow', 'genres', 'titles', 'tod']\n",
    "columns = ['cities', 'dow', 'genres', 'tod']"
   ]
  },
  {
   "cell_type": "code",
   "execution_count": 11,
   "metadata": {
    "collapsed": false
   },
   "outputs": [
    {
     "data": {
      "text/plain": [
       "2"
      ]
     },
     "execution_count": 11,
     "metadata": {},
     "output_type": "execute_result"
    }
   ],
   "source": [
    "val  = np.array([1,2,3,4])\n",
    "stats.mean(val)"
   ]
  },
  {
   "cell_type": "code",
   "execution_count": 12,
   "metadata": {
    "collapsed": false
   },
   "outputs": [],
   "source": [
    "def row_sum(row):\n",
    "    vals = np.array([int(i.strip(\":\")) for i in re.findall(\"\\:\\d+\", row)])\n",
    "    return vals.sum()\n",
    "\n",
    "def row_mean(row):\n",
    "    vals = np.array([int(i.strip(\":\")) for i in re.findall(\"\\:\\d+\", row)])\n",
    "    return vals.mean()\n",
    "\n",
    "def row_stdev(row):\n",
    "    try:\n",
    "        vals = np.array([int(i.strip(\":\")) for i in re.findall(\"\\:\\d+\", row)])\n",
    "        return stats.stdev(vals)\n",
    "    except:\n",
    "        return 0.0"
   ]
  },
  {
   "cell_type": "code",
   "execution_count": 13,
   "metadata": {
    "collapsed": false
   },
   "outputs": [],
   "source": [
    "train_data['watch_hours_sum'] = train_data.cities.apply(row_sum)\n",
    "train_data['watch_hours_mean'] = train_data.cities.apply(row_mean)\n",
    "train_data['watch_hours_stdev'] = train_data.cities.apply(row_stdev)\n",
    "test_data['watch_hours_sum'] = test_data.cities.apply(row_sum)\n",
    "test_data['watch_hours_mean'] = test_data.cities.apply(row_mean)\n",
    "test_data['watch_hours_stdev'] = test_data.cities.apply(row_stdev)"
   ]
  },
  {
   "cell_type": "code",
   "execution_count": 14,
   "metadata": {
    "collapsed": true
   },
   "outputs": [],
   "source": [
    "train_data['dow_sum'] = train_data.dow.apply(row_sum)\n",
    "train_data['dow_mean'] = train_data.dow.apply(row_mean)\n",
    "train_data['dow_stdev'] = train_data.dow.apply(row_stdev)\n",
    "test_data['dow_sum'] = test_data.dow.apply(row_sum)\n",
    "test_data['dow_mean'] = test_data.dow.apply(row_mean)\n",
    "test_data['dow_stdev'] = test_data.dow.apply(row_stdev)"
   ]
  },
  {
   "cell_type": "code",
   "execution_count": 15,
   "metadata": {
    "collapsed": false
   },
   "outputs": [],
   "source": [
    "train_data['tod_sum'] = train_data.tod.apply(row_sum)\n",
    "train_data['tow_mean'] = train_data.tod.apply(row_mean)\n",
    "train_data['tod_stdev'] = train_data.tod.apply(row_stdev)\n",
    "test_data['tod_sum'] = test_data.tod.apply(row_sum)\n",
    "test_data['tow_mean'] = test_data.tod.apply(row_mean)\n",
    "test_data['tod_stdev'] = test_data.tod.apply(row_stdev)"
   ]
  },
  {
   "cell_type": "code",
   "execution_count": 16,
   "metadata": {
    "collapsed": false
   },
   "outputs": [
    {
     "name": "stderr",
     "output_type": "stream",
     "text": [
      "/Users/shams/anaconda/lib/python3.5/site-packages/ipykernel/__main__.py:7: RuntimeWarning: Mean of empty slice.\n"
     ]
    }
   ],
   "source": [
    "train_data['title_sum'] = train_data.titles.apply(row_sum)\n",
    "train_data['title_mean'] = train_data.titles.apply(row_mean)\n",
    "train_data['title_stdev'] = train_data.titles.apply(row_stdev)\n",
    "test_data['title_sum'] = test_data.titles.apply(row_sum)\n",
    "test_data['title_mean'] = test_data.titles.apply(row_mean)\n",
    "test_data['title_stdev'] = test_data.titles.apply(row_stdev)"
   ]
  },
  {
   "cell_type": "code",
   "execution_count": 17,
   "metadata": {
    "collapsed": true
   },
   "outputs": [],
   "source": [
    "train_data['genre_sum'] = train_data.genres.apply(row_sum)\n",
    "train_data['genre_mean'] = train_data.genres.apply(row_mean)\n",
    "train_data['genre_stdev'] = train_data.genres.apply(row_stdev)\n",
    "test_data['genre_sum'] = test_data.genres.apply(row_sum)\n",
    "test_data['genre_mean'] = test_data.genres.apply(row_mean)\n",
    "test_data['genre_stdev'] = test_data.genres.apply(row_stdev)"
   ]
  },
  {
   "cell_type": "code",
   "execution_count": 18,
   "metadata": {
    "collapsed": false,
    "deletable": true,
    "editable": true
   },
   "outputs": [
    {
     "data": {
      "text/html": [
       "<div>\n",
       "<style>\n",
       "    .dataframe thead tr:only-child th {\n",
       "        text-align: right;\n",
       "    }\n",
       "\n",
       "    .dataframe thead th {\n",
       "        text-align: left;\n",
       "    }\n",
       "\n",
       "    .dataframe tbody tr th {\n",
       "        vertical-align: top;\n",
       "    }\n",
       "</style>\n",
       "<table border=\"1\" class=\"dataframe\">\n",
       "  <thead>\n",
       "    <tr style=\"text-align: right;\">\n",
       "      <th></th>\n",
       "      <th>ID</th>\n",
       "      <th>cities</th>\n",
       "      <th>dow</th>\n",
       "      <th>genres</th>\n",
       "      <th>segment</th>\n",
       "      <th>titles</th>\n",
       "      <th>tod</th>\n",
       "      <th>watch_hours_sum</th>\n",
       "      <th>watch_hours_mean</th>\n",
       "      <th>watch_hours_stdev</th>\n",
       "      <th>...</th>\n",
       "      <th>dow_stdev</th>\n",
       "      <th>tod_sum</th>\n",
       "      <th>tow_mean</th>\n",
       "      <th>tod_stdev</th>\n",
       "      <th>title_sum</th>\n",
       "      <th>title_mean</th>\n",
       "      <th>title_stdev</th>\n",
       "      <th>genre_sum</th>\n",
       "      <th>genre_mean</th>\n",
       "      <th>genre_stdev</th>\n",
       "    </tr>\n",
       "  </thead>\n",
       "  <tbody>\n",
       "    <tr>\n",
       "      <th>0</th>\n",
       "      <td>train-1</td>\n",
       "      <td>gurgaon:55494,delhi:31892</td>\n",
       "      <td>1:3412,3:15878,2:1737,5:10975,4:20974,7:17820,...</td>\n",
       "      <td>Cricket:82379,Kabaddi:255,Reality:4751</td>\n",
       "      <td>0</td>\n",
       "      <td>Top Raids: Haryana vs Services SCB:103,Day 4: ...</td>\n",
       "      <td>10:26,13:331,12:323,20:21864,21:16233,17:7953,...</td>\n",
       "      <td>87386</td>\n",
       "      <td>43693.000000</td>\n",
       "      <td>16689.134250</td>\n",
       "      <td>...</td>\n",
       "      <td>7404.117098</td>\n",
       "      <td>87377</td>\n",
       "      <td>6241.214286</td>\n",
       "      <td>6531.599192</td>\n",
       "      <td>87363.0</td>\n",
       "      <td>1456.050000</td>\n",
       "      <td>2309.102640</td>\n",
       "      <td>87385</td>\n",
       "      <td>29128.333333</td>\n",
       "      <td>46171.188300</td>\n",
       "    </tr>\n",
       "    <tr>\n",
       "      <th>1</th>\n",
       "      <td>train-10</td>\n",
       "      <td>delhi:5862,nagar:8916,mumbai:1593</td>\n",
       "      <td>1:5745,3:3025,2:3346,5:123,4:3007,7:1108,6:10</td>\n",
       "      <td>Cricket:15640,Wildlife:730</td>\n",
       "      <td>0</td>\n",
       "      <td>Dhoni Quits Captaincy:148,Day 4: India Move in...</td>\n",
       "      <td>11:1661,10:384,20:401,21:798,22:221,16:525,19:...</td>\n",
       "      <td>16371</td>\n",
       "      <td>5457.000000</td>\n",
       "      <td>3678.260594</td>\n",
       "      <td>...</td>\n",
       "      <td>2056.775389</td>\n",
       "      <td>16361</td>\n",
       "      <td>1022.562500</td>\n",
       "      <td>1029.778617</td>\n",
       "      <td>16356.0</td>\n",
       "      <td>233.657143</td>\n",
       "      <td>580.001724</td>\n",
       "      <td>16370</td>\n",
       "      <td>8185.000000</td>\n",
       "      <td>10542.962107</td>\n",
       "    </tr>\n",
       "    <tr>\n",
       "      <th>2</th>\n",
       "      <td>train-100</td>\n",
       "      <td>navi mumbai:4142</td>\n",
       "      <td>3:4142</td>\n",
       "      <td>LiveTV:13,Football:4129</td>\n",
       "      <td>0</td>\n",
       "      <td>Star Sports 4:13,Manchester United vs Everton:...</td>\n",
       "      <td>1:1207,0:2406,2:529</td>\n",
       "      <td>4142</td>\n",
       "      <td>4142.000000</td>\n",
       "      <td>0.000000</td>\n",
       "      <td>...</td>\n",
       "      <td>0.000000</td>\n",
       "      <td>4142</td>\n",
       "      <td>1380.666667</td>\n",
       "      <td>950.474618</td>\n",
       "      <td>4142.0</td>\n",
       "      <td>2071.000000</td>\n",
       "      <td>2910.451511</td>\n",
       "      <td>4142</td>\n",
       "      <td>2071.000000</td>\n",
       "      <td>2910.451511</td>\n",
       "    </tr>\n",
       "    <tr>\n",
       "      <th>3</th>\n",
       "      <td>train-1000</td>\n",
       "      <td>new delhi:4131,chennai:2878,navi mumbai:1339</td>\n",
       "      <td>1:658,3:5867,5:413,4:1339,7:71</td>\n",
       "      <td>TalkShow:658,Cricket:7690</td>\n",
       "      <td>0</td>\n",
       "      <td>SRH vs RCB:701,KKR vs KXIP:1042,MI vs SRH:2288...</td>\n",
       "      <td>11:71,20:2417,21:1042,23:2288,19:1872,8:658</td>\n",
       "      <td>8348</td>\n",
       "      <td>2782.666667</td>\n",
       "      <td>1398.439130</td>\n",
       "      <td>...</td>\n",
       "      <td>2391.932273</td>\n",
       "      <td>8348</td>\n",
       "      <td>1391.333333</td>\n",
       "      <td>947.642865</td>\n",
       "      <td>8348.0</td>\n",
       "      <td>1043.500000</td>\n",
       "      <td>1005.743009</td>\n",
       "      <td>8348</td>\n",
       "      <td>4174.000000</td>\n",
       "      <td>4972.374885</td>\n",
       "    </tr>\n",
       "    <tr>\n",
       "      <th>4</th>\n",
       "      <td>train-10000</td>\n",
       "      <td>gurgaon:6077,chennai:4055</td>\n",
       "      <td>1:1641,2:480,4:1445,7:1663,6:4900</td>\n",
       "      <td>Drama:5503,Cricket:3283,Reality:1345</td>\n",
       "      <td>0</td>\n",
       "      <td>MI vs KKR:304,Yeh Rishta Kya Kehlata Hai:5449,...</td>\n",
       "      <td>20:158,22:4139,17:67,23:1510,19:288,18:56,0:23...</td>\n",
       "      <td>10132</td>\n",
       "      <td>5066.000000</td>\n",
       "      <td>1429.769912</td>\n",
       "      <td>...</td>\n",
       "      <td>1678.358126</td>\n",
       "      <td>10129</td>\n",
       "      <td>1125.444444</td>\n",
       "      <td>1402.447860</td>\n",
       "      <td>10129.0</td>\n",
       "      <td>920.818182</td>\n",
       "      <td>1620.173139</td>\n",
       "      <td>10131</td>\n",
       "      <td>3377.000000</td>\n",
       "      <td>2080.593185</td>\n",
       "    </tr>\n",
       "  </tbody>\n",
       "</table>\n",
       "<p>5 rows × 22 columns</p>\n",
       "</div>"
      ],
      "text/plain": [
       "            ID                                        cities  \\\n",
       "0      train-1                     gurgaon:55494,delhi:31892   \n",
       "1     train-10             delhi:5862,nagar:8916,mumbai:1593   \n",
       "2    train-100                              navi mumbai:4142   \n",
       "3   train-1000  new delhi:4131,chennai:2878,navi mumbai:1339   \n",
       "4  train-10000                     gurgaon:6077,chennai:4055   \n",
       "\n",
       "                                                 dow  \\\n",
       "0  1:3412,3:15878,2:1737,5:10975,4:20974,7:17820,...   \n",
       "1      1:5745,3:3025,2:3346,5:123,4:3007,7:1108,6:10   \n",
       "2                                             3:4142   \n",
       "3                     1:658,3:5867,5:413,4:1339,7:71   \n",
       "4                  1:1641,2:480,4:1445,7:1663,6:4900   \n",
       "\n",
       "                                   genres  segment  \\\n",
       "0  Cricket:82379,Kabaddi:255,Reality:4751        0   \n",
       "1              Cricket:15640,Wildlife:730        0   \n",
       "2                 LiveTV:13,Football:4129        0   \n",
       "3               TalkShow:658,Cricket:7690        0   \n",
       "4    Drama:5503,Cricket:3283,Reality:1345        0   \n",
       "\n",
       "                                              titles  \\\n",
       "0  Top Raids: Haryana vs Services SCB:103,Day 4: ...   \n",
       "1  Dhoni Quits Captaincy:148,Day 4: India Move in...   \n",
       "2  Star Sports 4:13,Manchester United vs Everton:...   \n",
       "3  SRH vs RCB:701,KKR vs KXIP:1042,MI vs SRH:2288...   \n",
       "4  MI vs KKR:304,Yeh Rishta Kya Kehlata Hai:5449,...   \n",
       "\n",
       "                                                 tod  watch_hours_sum  \\\n",
       "0  10:26,13:331,12:323,20:21864,21:16233,17:7953,...            87386   \n",
       "1  11:1661,10:384,20:401,21:798,22:221,16:525,19:...            16371   \n",
       "2                                1:1207,0:2406,2:529             4142   \n",
       "3        11:71,20:2417,21:1042,23:2288,19:1872,8:658             8348   \n",
       "4  20:158,22:4139,17:67,23:1510,19:288,18:56,0:23...            10132   \n",
       "\n",
       "   watch_hours_mean  watch_hours_stdev      ...         dow_stdev  tod_sum  \\\n",
       "0      43693.000000       16689.134250      ...       7404.117098    87377   \n",
       "1       5457.000000        3678.260594      ...       2056.775389    16361   \n",
       "2       4142.000000           0.000000      ...          0.000000     4142   \n",
       "3       2782.666667        1398.439130      ...       2391.932273     8348   \n",
       "4       5066.000000        1429.769912      ...       1678.358126    10129   \n",
       "\n",
       "      tow_mean    tod_stdev  title_sum   title_mean  title_stdev  genre_sum  \\\n",
       "0  6241.214286  6531.599192    87363.0  1456.050000  2309.102640      87385   \n",
       "1  1022.562500  1029.778617    16356.0   233.657143   580.001724      16370   \n",
       "2  1380.666667   950.474618     4142.0  2071.000000  2910.451511       4142   \n",
       "3  1391.333333   947.642865     8348.0  1043.500000  1005.743009       8348   \n",
       "4  1125.444444  1402.447860    10129.0   920.818182  1620.173139      10131   \n",
       "\n",
       "     genre_mean   genre_stdev  \n",
       "0  29128.333333  46171.188300  \n",
       "1   8185.000000  10542.962107  \n",
       "2   2071.000000   2910.451511  \n",
       "3   4174.000000   4972.374885  \n",
       "4   3377.000000   2080.593185  \n",
       "\n",
       "[5 rows x 22 columns]"
      ]
     },
     "execution_count": 18,
     "metadata": {},
     "output_type": "execute_result"
    }
   ],
   "source": [
    "train_data.head()"
   ]
  },
  {
   "cell_type": "code",
   "execution_count": 19,
   "metadata": {
    "collapsed": false
   },
   "outputs": [
    {
     "name": "stderr",
     "output_type": "stream",
     "text": [
      "100%|██████████| 200000/200000 [00:15<00:00, 12515.31it/s]"
     ]
    },
    {
     "name": "stdout",
     "output_type": "stream",
     "text": [
      "1441\n"
     ]
    },
    {
     "name": "stderr",
     "output_type": "stream",
     "text": [
      "\n"
     ]
    }
   ],
   "source": [
    "df_columns = [\n",
    "    'id', \n",
    "    'segment', \n",
    "    'watch_hours_sum', \n",
    "    'watch_hours_mean', \n",
    "    'watch_hours_stdev', \n",
    "    'dow_sum',\n",
    "    'dow_mean',\n",
    "    'dow_stdev',\n",
    "    'tod_sum',\n",
    "    'tod_mean',\n",
    "    'tod_stdev',\n",
    "    'title_sum',\n",
    "    'title_mean',\n",
    "    'title_stdev',\n",
    "    'genre_sum',\n",
    "    'genre_mean',\n",
    "    'genre_stdev'\n",
    "]\n",
    "for row in tqdm(train_data.itertuples(), total=len(train_data)):\n",
    "    for col in columns:\n",
    "        for elem in getattr(row, col).split(','):\n",
    "            probe = re.findall('\\:\\d+', elem)\n",
    "            if len(probe):\n",
    "                num = probe[0]\n",
    "                key = col + \"_\" + elem.replace(num, '')\n",
    "                if key not in df_columns:\n",
    "                    df_columns.append(key)\n",
    "print(len(df_columns))"
   ]
  },
  {
   "cell_type": "code",
   "execution_count": 20,
   "metadata": {
    "collapsed": false
   },
   "outputs": [
    {
     "data": {
      "text/plain": [
       "0"
      ]
     },
     "execution_count": 20,
     "metadata": {},
     "output_type": "execute_result"
    }
   ],
   "source": [
    "df_columns.index('id')"
   ]
  },
  {
   "cell_type": "code",
   "execution_count": 21,
   "metadata": {
    "collapsed": false,
    "deletable": true,
    "editable": true,
    "scrolled": true
   },
   "outputs": [
    {
     "name": "stderr",
     "output_type": "stream",
     "text": [
      "100%|██████████| 200000/200000 [00:32<00:00, 6142.96it/s]\n"
     ]
    }
   ],
   "source": [
    "row_list = []\n",
    "for row in tqdm(train_data.itertuples(), total=len(train_data)):\n",
    "    row_i = [0] * len(df_columns)\n",
    "    row_i[df_columns.index('id')] = getattr(row, 'ID')\n",
    "    row_i[df_columns.index('segment')] = getattr(row, 'segment')\n",
    "    for col in columns:\n",
    "        for elem in getattr(row, col).split(','):\n",
    "            probe = re.findall('\\:\\d+', elem)\n",
    "            if len(probe):\n",
    "                num = probe[0]\n",
    "                key = col + \"_\" + elem.replace(num, '')\n",
    "                num = num.strip(\":\")\n",
    "                row_i[df_columns.index(key)] = num\n",
    "    row_list.append(row_i)"
   ]
  },
  {
   "cell_type": "code",
   "execution_count": 22,
   "metadata": {
    "collapsed": false,
    "deletable": true,
    "editable": true
   },
   "outputs": [],
   "source": [
    "df_train = pd.DataFrame(row_list, columns=df_columns)\n",
    "df_train.index = df_train.id"
   ]
  },
  {
   "cell_type": "code",
   "execution_count": null,
   "metadata": {
    "collapsed": false
   },
   "outputs": [],
   "source": [
    "# dow_cols = [col for col in df_train.columns if col.startswith('dow')]\n",
    "# tod_cols = [col for col in df_train.columns if col.startswith('tod')]\n",
    "# df_train['dow_row_mean'] = df_train[dow_cols].astype(float).mean(axis=1)\n",
    "# df_train['tod_row_mean'] = df_train[tod_cols].astype(float).mean(axis=1)"
   ]
  },
  {
   "cell_type": "code",
   "execution_count": 23,
   "metadata": {
    "collapsed": false
   },
   "outputs": [
    {
     "data": {
      "text/html": [
       "<div>\n",
       "<style>\n",
       "    .dataframe thead tr:only-child th {\n",
       "        text-align: right;\n",
       "    }\n",
       "\n",
       "    .dataframe thead th {\n",
       "        text-align: left;\n",
       "    }\n",
       "\n",
       "    .dataframe tbody tr th {\n",
       "        vertical-align: top;\n",
       "    }\n",
       "</style>\n",
       "<table border=\"1\" class=\"dataframe\">\n",
       "  <thead>\n",
       "    <tr style=\"text-align: right;\">\n",
       "      <th></th>\n",
       "      <th>id</th>\n",
       "      <th>segment</th>\n",
       "      <th>watch_hours_sum</th>\n",
       "      <th>watch_hours_mean</th>\n",
       "      <th>watch_hours_stdev</th>\n",
       "      <th>dow_sum</th>\n",
       "      <th>dow_mean</th>\n",
       "      <th>dow_stdev</th>\n",
       "      <th>tod_sum</th>\n",
       "      <th>tod_mean</th>\n",
       "      <th>...</th>\n",
       "      <th>cities_wallingford</th>\n",
       "      <th>cities_aalborg</th>\n",
       "      <th>cities_wallington</th>\n",
       "      <th>cities_belfast</th>\n",
       "      <th>cities_eivissa</th>\n",
       "      <th>cities_minhang qu</th>\n",
       "      <th>cities_streatham</th>\n",
       "      <th>cities_zhenruzhen</th>\n",
       "      <th>cities_pavlodar</th>\n",
       "      <th>cities_louisville</th>\n",
       "    </tr>\n",
       "    <tr>\n",
       "      <th>id</th>\n",
       "      <th></th>\n",
       "      <th></th>\n",
       "      <th></th>\n",
       "      <th></th>\n",
       "      <th></th>\n",
       "      <th></th>\n",
       "      <th></th>\n",
       "      <th></th>\n",
       "      <th></th>\n",
       "      <th></th>\n",
       "      <th></th>\n",
       "      <th></th>\n",
       "      <th></th>\n",
       "      <th></th>\n",
       "      <th></th>\n",
       "      <th></th>\n",
       "      <th></th>\n",
       "      <th></th>\n",
       "      <th></th>\n",
       "      <th></th>\n",
       "      <th></th>\n",
       "    </tr>\n",
       "  </thead>\n",
       "  <tbody>\n",
       "    <tr>\n",
       "      <th>train-1</th>\n",
       "      <td>train-1</td>\n",
       "      <td>0</td>\n",
       "      <td>0</td>\n",
       "      <td>0</td>\n",
       "      <td>0</td>\n",
       "      <td>0</td>\n",
       "      <td>0</td>\n",
       "      <td>0</td>\n",
       "      <td>0</td>\n",
       "      <td>0</td>\n",
       "      <td>...</td>\n",
       "      <td>0</td>\n",
       "      <td>0</td>\n",
       "      <td>0</td>\n",
       "      <td>0</td>\n",
       "      <td>0</td>\n",
       "      <td>0</td>\n",
       "      <td>0</td>\n",
       "      <td>0</td>\n",
       "      <td>0</td>\n",
       "      <td>0</td>\n",
       "    </tr>\n",
       "    <tr>\n",
       "      <th>train-10</th>\n",
       "      <td>train-10</td>\n",
       "      <td>0</td>\n",
       "      <td>0</td>\n",
       "      <td>0</td>\n",
       "      <td>0</td>\n",
       "      <td>0</td>\n",
       "      <td>0</td>\n",
       "      <td>0</td>\n",
       "      <td>0</td>\n",
       "      <td>0</td>\n",
       "      <td>...</td>\n",
       "      <td>0</td>\n",
       "      <td>0</td>\n",
       "      <td>0</td>\n",
       "      <td>0</td>\n",
       "      <td>0</td>\n",
       "      <td>0</td>\n",
       "      <td>0</td>\n",
       "      <td>0</td>\n",
       "      <td>0</td>\n",
       "      <td>0</td>\n",
       "    </tr>\n",
       "    <tr>\n",
       "      <th>train-100</th>\n",
       "      <td>train-100</td>\n",
       "      <td>0</td>\n",
       "      <td>0</td>\n",
       "      <td>0</td>\n",
       "      <td>0</td>\n",
       "      <td>0</td>\n",
       "      <td>0</td>\n",
       "      <td>0</td>\n",
       "      <td>0</td>\n",
       "      <td>0</td>\n",
       "      <td>...</td>\n",
       "      <td>0</td>\n",
       "      <td>0</td>\n",
       "      <td>0</td>\n",
       "      <td>0</td>\n",
       "      <td>0</td>\n",
       "      <td>0</td>\n",
       "      <td>0</td>\n",
       "      <td>0</td>\n",
       "      <td>0</td>\n",
       "      <td>0</td>\n",
       "    </tr>\n",
       "    <tr>\n",
       "      <th>train-1000</th>\n",
       "      <td>train-1000</td>\n",
       "      <td>0</td>\n",
       "      <td>0</td>\n",
       "      <td>0</td>\n",
       "      <td>0</td>\n",
       "      <td>0</td>\n",
       "      <td>0</td>\n",
       "      <td>0</td>\n",
       "      <td>0</td>\n",
       "      <td>0</td>\n",
       "      <td>...</td>\n",
       "      <td>0</td>\n",
       "      <td>0</td>\n",
       "      <td>0</td>\n",
       "      <td>0</td>\n",
       "      <td>0</td>\n",
       "      <td>0</td>\n",
       "      <td>0</td>\n",
       "      <td>0</td>\n",
       "      <td>0</td>\n",
       "      <td>0</td>\n",
       "    </tr>\n",
       "    <tr>\n",
       "      <th>train-10000</th>\n",
       "      <td>train-10000</td>\n",
       "      <td>0</td>\n",
       "      <td>0</td>\n",
       "      <td>0</td>\n",
       "      <td>0</td>\n",
       "      <td>0</td>\n",
       "      <td>0</td>\n",
       "      <td>0</td>\n",
       "      <td>0</td>\n",
       "      <td>0</td>\n",
       "      <td>...</td>\n",
       "      <td>0</td>\n",
       "      <td>0</td>\n",
       "      <td>0</td>\n",
       "      <td>0</td>\n",
       "      <td>0</td>\n",
       "      <td>0</td>\n",
       "      <td>0</td>\n",
       "      <td>0</td>\n",
       "      <td>0</td>\n",
       "      <td>0</td>\n",
       "    </tr>\n",
       "  </tbody>\n",
       "</table>\n",
       "<p>5 rows × 1441 columns</p>\n",
       "</div>"
      ],
      "text/plain": [
       "                      id  segment  watch_hours_sum  watch_hours_mean  \\\n",
       "id                                                                     \n",
       "train-1          train-1        0                0                 0   \n",
       "train-10        train-10        0                0                 0   \n",
       "train-100      train-100        0                0                 0   \n",
       "train-1000    train-1000        0                0                 0   \n",
       "train-10000  train-10000        0                0                 0   \n",
       "\n",
       "             watch_hours_stdev  dow_sum  dow_mean  dow_stdev  tod_sum  \\\n",
       "id                                                                      \n",
       "train-1                      0        0         0          0        0   \n",
       "train-10                     0        0         0          0        0   \n",
       "train-100                    0        0         0          0        0   \n",
       "train-1000                   0        0         0          0        0   \n",
       "train-10000                  0        0         0          0        0   \n",
       "\n",
       "             tod_mean        ...         cities_wallingford  cities_aalborg  \\\n",
       "id                           ...                                              \n",
       "train-1             0        ...                          0               0   \n",
       "train-10            0        ...                          0               0   \n",
       "train-100           0        ...                          0               0   \n",
       "train-1000          0        ...                          0               0   \n",
       "train-10000         0        ...                          0               0   \n",
       "\n",
       "             cities_wallington  cities_belfast  cities_eivissa  \\\n",
       "id                                                               \n",
       "train-1                      0               0               0   \n",
       "train-10                     0               0               0   \n",
       "train-100                    0               0               0   \n",
       "train-1000                   0               0               0   \n",
       "train-10000                  0               0               0   \n",
       "\n",
       "             cities_minhang qu  cities_streatham cities_zhenruzhen  \\\n",
       "id                                                                   \n",
       "train-1                      0                 0                 0   \n",
       "train-10                     0                 0                 0   \n",
       "train-100                    0                 0                 0   \n",
       "train-1000                   0                 0                 0   \n",
       "train-10000                  0                 0                 0   \n",
       "\n",
       "            cities_pavlodar cities_louisville  \n",
       "id                                             \n",
       "train-1                   0                 0  \n",
       "train-10                  0                 0  \n",
       "train-100                 0                 0  \n",
       "train-1000                0                 0  \n",
       "train-10000               0                 0  \n",
       "\n",
       "[5 rows x 1441 columns]"
      ]
     },
     "execution_count": 23,
     "metadata": {},
     "output_type": "execute_result"
    }
   ],
   "source": [
    "df_train.head()"
   ]
  },
  {
   "cell_type": "code",
   "execution_count": 24,
   "metadata": {
    "collapsed": false
   },
   "outputs": [
    {
     "name": "stderr",
     "output_type": "stream",
     "text": [
      "100%|██████████| 100000/100000 [00:11<00:00, 9060.58it/s]\n"
     ]
    }
   ],
   "source": [
    "row_list = []\n",
    "for row in tqdm(test_data.itertuples(), total=len(test_data)):\n",
    "    row_i = [0] * len(df_columns)\n",
    "    row_i[df_columns.index('id')] = getattr(row, 'ID')\n",
    "    for col in columns:\n",
    "        for elem in getattr(row, col).split(','):\n",
    "            probe = re.findall('\\:\\d+', elem)\n",
    "            if len(probe):\n",
    "                num = probe[0]\n",
    "                key = col + \"_\" + elem.replace(num, '')\n",
    "                num = num.strip(\":\")\n",
    "                try:\n",
    "                    row_i[df_columns.index(key)] = num\n",
    "                except:\n",
    "                    continue\n",
    "    row_list.append(row_i)\n",
    "df_test = pd.DataFrame(row_list, columns=df_columns)\n",
    "df_test.index = df_test.id"
   ]
  },
  {
   "cell_type": "code",
   "execution_count": null,
   "metadata": {
    "collapsed": false
   },
   "outputs": [],
   "source": [
    "# df_test['dow_row_mean'] = df_test[dow_cols].astype(float).mean(axis=1)\n",
    "# df_test['tod_row_mean'] = df_test[tod_cols].astype(float).mean(axis=1)\n",
    "# df_test.head()"
   ]
  },
  {
   "cell_type": "code",
   "execution_count": 26,
   "metadata": {
    "collapsed": false,
    "deletable": true,
    "editable": true
   },
   "outputs": [],
   "source": [
    "from sklearn.ensemble import RandomForestClassifier\n",
    "from sklearn.grid_search import GridSearchCV\n",
    "from sklearn.metrics import roc_auc_score, make_scorer\n",
    "from sklearn.model_selection import train_test_split"
   ]
  },
  {
   "cell_type": "code",
   "execution_count": 27,
   "metadata": {
    "collapsed": true
   },
   "outputs": [],
   "source": [
    "target = df_train['segment']\n",
    "train_data = df_train.drop(['segment', 'id'], axis=1, inplace=False)"
   ]
  },
  {
   "cell_type": "code",
   "execution_count": 28,
   "metadata": {
    "collapsed": false,
    "deletable": true,
    "editable": true
   },
   "outputs": [],
   "source": [
    "test_data = df_test.drop('id', axis=1, inplace=False)"
   ]
  },
  {
   "cell_type": "code",
   "execution_count": 29,
   "metadata": {
    "collapsed": true
   },
   "outputs": [],
   "source": [
    "test_data = test_data.drop('segment', axis=1, inplace=False)"
   ]
  },
  {
   "cell_type": "code",
   "execution_count": 30,
   "metadata": {
    "collapsed": false
   },
   "outputs": [
    {
     "data": {
      "text/html": [
       "<div>\n",
       "<style>\n",
       "    .dataframe thead tr:only-child th {\n",
       "        text-align: right;\n",
       "    }\n",
       "\n",
       "    .dataframe thead th {\n",
       "        text-align: left;\n",
       "    }\n",
       "\n",
       "    .dataframe tbody tr th {\n",
       "        vertical-align: top;\n",
       "    }\n",
       "</style>\n",
       "<table border=\"1\" class=\"dataframe\">\n",
       "  <thead>\n",
       "    <tr style=\"text-align: right;\">\n",
       "      <th></th>\n",
       "      <th>watch_hours_sum</th>\n",
       "      <th>watch_hours_mean</th>\n",
       "      <th>watch_hours_stdev</th>\n",
       "      <th>dow_sum</th>\n",
       "      <th>dow_mean</th>\n",
       "      <th>dow_stdev</th>\n",
       "      <th>tod_sum</th>\n",
       "      <th>tod_mean</th>\n",
       "      <th>tod_stdev</th>\n",
       "      <th>title_sum</th>\n",
       "      <th>...</th>\n",
       "      <th>cities_wallingford</th>\n",
       "      <th>cities_aalborg</th>\n",
       "      <th>cities_wallington</th>\n",
       "      <th>cities_belfast</th>\n",
       "      <th>cities_eivissa</th>\n",
       "      <th>cities_minhang qu</th>\n",
       "      <th>cities_streatham</th>\n",
       "      <th>cities_zhenruzhen</th>\n",
       "      <th>cities_pavlodar</th>\n",
       "      <th>cities_louisville</th>\n",
       "    </tr>\n",
       "    <tr>\n",
       "      <th>id</th>\n",
       "      <th></th>\n",
       "      <th></th>\n",
       "      <th></th>\n",
       "      <th></th>\n",
       "      <th></th>\n",
       "      <th></th>\n",
       "      <th></th>\n",
       "      <th></th>\n",
       "      <th></th>\n",
       "      <th></th>\n",
       "      <th></th>\n",
       "      <th></th>\n",
       "      <th></th>\n",
       "      <th></th>\n",
       "      <th></th>\n",
       "      <th></th>\n",
       "      <th></th>\n",
       "      <th></th>\n",
       "      <th></th>\n",
       "      <th></th>\n",
       "      <th></th>\n",
       "    </tr>\n",
       "  </thead>\n",
       "  <tbody>\n",
       "    <tr>\n",
       "      <th>test-1</th>\n",
       "      <td>0.0</td>\n",
       "      <td>0.0</td>\n",
       "      <td>0.0</td>\n",
       "      <td>0.0</td>\n",
       "      <td>0.0</td>\n",
       "      <td>0.0</td>\n",
       "      <td>0.0</td>\n",
       "      <td>0.0</td>\n",
       "      <td>0.0</td>\n",
       "      <td>0.0</td>\n",
       "      <td>...</td>\n",
       "      <td>0.0</td>\n",
       "      <td>0.0</td>\n",
       "      <td>0.0</td>\n",
       "      <td>0.0</td>\n",
       "      <td>0.0</td>\n",
       "      <td>0.0</td>\n",
       "      <td>0.0</td>\n",
       "      <td>0.0</td>\n",
       "      <td>0.0</td>\n",
       "      <td>0.0</td>\n",
       "    </tr>\n",
       "    <tr>\n",
       "      <th>test-10</th>\n",
       "      <td>0.0</td>\n",
       "      <td>0.0</td>\n",
       "      <td>0.0</td>\n",
       "      <td>0.0</td>\n",
       "      <td>0.0</td>\n",
       "      <td>0.0</td>\n",
       "      <td>0.0</td>\n",
       "      <td>0.0</td>\n",
       "      <td>0.0</td>\n",
       "      <td>0.0</td>\n",
       "      <td>...</td>\n",
       "      <td>0.0</td>\n",
       "      <td>0.0</td>\n",
       "      <td>0.0</td>\n",
       "      <td>0.0</td>\n",
       "      <td>0.0</td>\n",
       "      <td>0.0</td>\n",
       "      <td>0.0</td>\n",
       "      <td>0.0</td>\n",
       "      <td>0.0</td>\n",
       "      <td>0.0</td>\n",
       "    </tr>\n",
       "    <tr>\n",
       "      <th>test-100</th>\n",
       "      <td>0.0</td>\n",
       "      <td>0.0</td>\n",
       "      <td>0.0</td>\n",
       "      <td>0.0</td>\n",
       "      <td>0.0</td>\n",
       "      <td>0.0</td>\n",
       "      <td>0.0</td>\n",
       "      <td>0.0</td>\n",
       "      <td>0.0</td>\n",
       "      <td>0.0</td>\n",
       "      <td>...</td>\n",
       "      <td>0.0</td>\n",
       "      <td>0.0</td>\n",
       "      <td>0.0</td>\n",
       "      <td>0.0</td>\n",
       "      <td>0.0</td>\n",
       "      <td>0.0</td>\n",
       "      <td>0.0</td>\n",
       "      <td>0.0</td>\n",
       "      <td>0.0</td>\n",
       "      <td>0.0</td>\n",
       "    </tr>\n",
       "    <tr>\n",
       "      <th>test-1000</th>\n",
       "      <td>0.0</td>\n",
       "      <td>0.0</td>\n",
       "      <td>0.0</td>\n",
       "      <td>0.0</td>\n",
       "      <td>0.0</td>\n",
       "      <td>0.0</td>\n",
       "      <td>0.0</td>\n",
       "      <td>0.0</td>\n",
       "      <td>0.0</td>\n",
       "      <td>0.0</td>\n",
       "      <td>...</td>\n",
       "      <td>0.0</td>\n",
       "      <td>0.0</td>\n",
       "      <td>0.0</td>\n",
       "      <td>0.0</td>\n",
       "      <td>0.0</td>\n",
       "      <td>0.0</td>\n",
       "      <td>0.0</td>\n",
       "      <td>0.0</td>\n",
       "      <td>0.0</td>\n",
       "      <td>0.0</td>\n",
       "    </tr>\n",
       "    <tr>\n",
       "      <th>test-10000</th>\n",
       "      <td>0.0</td>\n",
       "      <td>0.0</td>\n",
       "      <td>0.0</td>\n",
       "      <td>0.0</td>\n",
       "      <td>0.0</td>\n",
       "      <td>0.0</td>\n",
       "      <td>0.0</td>\n",
       "      <td>0.0</td>\n",
       "      <td>0.0</td>\n",
       "      <td>0.0</td>\n",
       "      <td>...</td>\n",
       "      <td>0.0</td>\n",
       "      <td>0.0</td>\n",
       "      <td>0.0</td>\n",
       "      <td>0.0</td>\n",
       "      <td>0.0</td>\n",
       "      <td>0.0</td>\n",
       "      <td>0.0</td>\n",
       "      <td>0.0</td>\n",
       "      <td>0.0</td>\n",
       "      <td>0.0</td>\n",
       "    </tr>\n",
       "  </tbody>\n",
       "</table>\n",
       "<p>5 rows × 1439 columns</p>\n",
       "</div>"
      ],
      "text/plain": [
       "            watch_hours_sum  watch_hours_mean  watch_hours_stdev  dow_sum  \\\n",
       "id                                                                          \n",
       "test-1                  0.0               0.0                0.0      0.0   \n",
       "test-10                 0.0               0.0                0.0      0.0   \n",
       "test-100                0.0               0.0                0.0      0.0   \n",
       "test-1000               0.0               0.0                0.0      0.0   \n",
       "test-10000              0.0               0.0                0.0      0.0   \n",
       "\n",
       "            dow_mean  dow_stdev  tod_sum  tod_mean  tod_stdev  title_sum  \\\n",
       "id                                                                         \n",
       "test-1           0.0        0.0      0.0       0.0        0.0        0.0   \n",
       "test-10          0.0        0.0      0.0       0.0        0.0        0.0   \n",
       "test-100         0.0        0.0      0.0       0.0        0.0        0.0   \n",
       "test-1000        0.0        0.0      0.0       0.0        0.0        0.0   \n",
       "test-10000       0.0        0.0      0.0       0.0        0.0        0.0   \n",
       "\n",
       "                  ...          cities_wallingford  cities_aalborg  \\\n",
       "id                ...                                               \n",
       "test-1            ...                         0.0             0.0   \n",
       "test-10           ...                         0.0             0.0   \n",
       "test-100          ...                         0.0             0.0   \n",
       "test-1000         ...                         0.0             0.0   \n",
       "test-10000        ...                         0.0             0.0   \n",
       "\n",
       "            cities_wallington  cities_belfast  cities_eivissa  \\\n",
       "id                                                              \n",
       "test-1                    0.0             0.0             0.0   \n",
       "test-10                   0.0             0.0             0.0   \n",
       "test-100                  0.0             0.0             0.0   \n",
       "test-1000                 0.0             0.0             0.0   \n",
       "test-10000                0.0             0.0             0.0   \n",
       "\n",
       "            cities_minhang qu  cities_streatham  cities_zhenruzhen  \\\n",
       "id                                                                   \n",
       "test-1                    0.0               0.0                0.0   \n",
       "test-10                   0.0               0.0                0.0   \n",
       "test-100                  0.0               0.0                0.0   \n",
       "test-1000                 0.0               0.0                0.0   \n",
       "test-10000                0.0               0.0                0.0   \n",
       "\n",
       "            cities_pavlodar  cities_louisville  \n",
       "id                                              \n",
       "test-1                  0.0                0.0  \n",
       "test-10                 0.0                0.0  \n",
       "test-100                0.0                0.0  \n",
       "test-1000               0.0                0.0  \n",
       "test-10000              0.0                0.0  \n",
       "\n",
       "[5 rows x 1439 columns]"
      ]
     },
     "execution_count": 30,
     "metadata": {},
     "output_type": "execute_result"
    }
   ],
   "source": [
    "test_data = test_data.astype(float)\n",
    "test_data.head()"
   ]
  },
  {
   "cell_type": "code",
   "execution_count": null,
   "metadata": {
    "collapsed": false
   },
   "outputs": [],
   "source": [
    "train_data.head()"
   ]
  },
  {
   "cell_type": "code",
   "execution_count": null,
   "metadata": {
    "collapsed": false,
    "deletable": true,
    "editable": true,
    "scrolled": true
   },
   "outputs": [],
   "source": [
    "print(train_data.shape)\n",
    "print(test_data.shape)\n",
    "test = test_data.columns.tolist()\n",
    "train = train_data.columns.tolist()\n",
    "test.sort()\n",
    "train.sort()"
   ]
  },
  {
   "cell_type": "code",
   "execution_count": null,
   "metadata": {
    "collapsed": false,
    "deletable": true,
    "editable": true
   },
   "outputs": [],
   "source": [
    "# df_test.drop('title_sum', axis=1, inplace=True)"
   ]
  },
  {
   "cell_type": "code",
   "execution_count": null,
   "metadata": {
    "collapsed": true,
    "deletable": true,
    "editable": true
   },
   "outputs": [],
   "source": [
    "\n",
    "## uncomment to do grid search - could get better score\n",
    "# X_train, X_val, y_train, y_val = train_test_split(train_data, target, train_size=0.6, random_state = 1)\n",
    "\n",
    "## doing grid search for parameters\n",
    "# from sklearn.ensemble import RandomForestClassifier\n",
    "# from sklearn.grid_search import GridSearchCV\n",
    "# from sklearn.metrics import roc_auc_score, make_scorer\n",
    "# clf_scorer = make_scorer('roc_auc')\n",
    "# rfc = RandomForestClassifier(n_estimators=100,oob_score=True,)\n",
    "# param_grid = {\n",
    "#     'max_depth':[4,8,12],\n",
    "#     'max_features':['sqrt',10,15]\n",
    "    \n",
    "# }\n",
    "\n",
    "# cv_rfc = GridSearchCV(estimator=rfc, param_grid=param_grid, cv=5, scoring=clf_scorer)\n",
    "# cv_rfc.best_params_"
   ]
  },
  {
   "cell_type": "code",
   "execution_count": null,
   "metadata": {
    "collapsed": false,
    "deletable": true,
    "editable": true
   },
   "outputs": [],
   "source": [
    "#train final model\n",
    "rf_model = RandomForestClassifier(n_estimators=500,max_depth=12, max_features=10, verbose=50)\n",
    "rf_model.fit(df_train, target)"
   ]
  },
  {
   "cell_type": "code",
   "execution_count": null,
   "metadata": {
    "collapsed": false,
    "deletable": true,
    "editable": true
   },
   "outputs": [],
   "source": [
    "#make prediction\n",
    "rf_pred = rf_model.predict_proba(df_test)"
   ]
  },
  {
   "cell_type": "code",
   "execution_count": null,
   "metadata": {
    "collapsed": true,
    "deletable": true,
    "editable": true
   },
   "outputs": [],
   "source": [
    "#make submission file and submit\n",
    "columns = ['segment']\n",
    "sub = pd.DataFrame(data=rf_pred[:,1], columns=columns)\n",
    "sub['ID'] = test_id\n",
    "sub = sub[['ID','segment']]\n",
    "sub.to_csv(\"sub_hot.csv\", index=False)"
   ]
  },
  {
   "cell_type": "code",
   "execution_count": null,
   "metadata": {
    "collapsed": false,
    "deletable": true,
    "editable": true,
    "scrolled": true
   },
   "outputs": [],
   "source": [
    "print(X_train.columns)\n",
    "print(test_data.columns)"
   ]
  },
  {
   "cell_type": "code",
   "execution_count": 31,
   "metadata": {
    "collapsed": false,
    "deletable": true,
    "editable": true
   },
   "outputs": [],
   "source": [
    "from xgboost import XGBClassifier\n",
    "import xgboost as xgb_"
   ]
  },
  {
   "cell_type": "code",
   "execution_count": null,
   "metadata": {
    "collapsed": false,
    "deletable": true,
    "editable": true
   },
   "outputs": [],
   "source": [
    "# xyz = (train_data - train_data.mean())/ (train_data.max() - train_data.min())"
   ]
  },
  {
   "cell_type": "code",
   "execution_count": null,
   "metadata": {
    "collapsed": false,
    "deletable": true,
    "editable": true,
    "scrolled": false
   },
   "outputs": [
    {
     "name": "stdout",
     "output_type": "stream",
     "text": [
      "[0]\ttrain-auc:0.709316\tvalid-auc:0.713916\n",
      "Multiple eval metrics have been passed: 'valid-auc' will be used for early stopping.\n",
      "\n",
      "Will train until valid-auc hasn't improved in 50 rounds.\n",
      "[50]\ttrain-auc:0.801666\tvalid-auc:0.805985\n",
      "[100]\ttrain-auc:0.804068\tvalid-auc:0.807758\n",
      "[150]\ttrain-auc:0.805117\tvalid-auc:0.808465\n",
      "[200]\ttrain-auc:0.806743\tvalid-auc:0.809432\n",
      "[250]\ttrain-auc:0.808908\tvalid-auc:0.810763\n",
      "[300]\ttrain-auc:0.810717\tvalid-auc:0.811819\n",
      "[350]\ttrain-auc:0.81256\tvalid-auc:0.812759\n",
      "[400]\ttrain-auc:0.814133\tvalid-auc:0.813486\n",
      "[450]\ttrain-auc:0.815782\tvalid-auc:0.814315\n",
      "[500]\ttrain-auc:0.817276\tvalid-auc:0.815045\n",
      "[550]\ttrain-auc:0.81874\tvalid-auc:0.815684\n",
      "[600]\ttrain-auc:0.820145\tvalid-auc:0.816207\n",
      "[650]\ttrain-auc:0.821367\tvalid-auc:0.816685\n",
      "[700]\ttrain-auc:0.822531\tvalid-auc:0.817114\n",
      "[750]\ttrain-auc:0.823598\tvalid-auc:0.817503\n"
     ]
    }
   ],
   "source": [
    "X_train,X_valid,y_train,y_valid = train_test_split(train_data.astype(float), target, test_size=0.3, random_state=1, stratify=target)\n",
    "\n",
    "# Set our parameters for xgboost\n",
    "params = {}\n",
    "params['objective'] = 'binary:logistic'\n",
    "params['eta'] = 0.01\n",
    "params['eval_metric'] = 'auc'\n",
    "# params['num_class'] = 2\n",
    "params['n_estimators'] = 1000\n",
    "params['max_depth'] = 4  # or 5\n",
    "params['min_child_weight'] = 1 # or 1\n",
    "params['gamma'] = 0 # or 0\n",
    "params['subsample'] = 0.8\n",
    "params['colsample_bytree'] = 0.8 # or 0.8\n",
    "params['nthread'] = 4\n",
    "params['scale_pos_weight'] = 1\n",
    "params['seed'] = 1\n",
    "\n",
    "d_train = xgb_.DMatrix(X_train, label=y_train)\n",
    "d_valid = xgb_.DMatrix(X_valid, label=y_valid)\n",
    "# d_train = xgb_.DMatrix(train_data.astype(float), label=target)\n",
    "watchlist = [(d_train, 'train'), (d_valid, 'valid')]\n",
    "# watchlist = [(d_train, 'train')]\n",
    "\n",
    "bst = xgb_.train(params, d_train, 1870, watchlist, early_stopping_rounds=50, verbose_eval=50)"
   ]
  },
  {
   "cell_type": "code",
   "execution_count": null,
   "metadata": {
    "collapsed": false
   },
   "outputs": [],
   "source": [
    "test_data.columns"
   ]
  },
  {
   "cell_type": "code",
   "execution_count": null,
   "metadata": {
    "collapsed": false,
    "deletable": true,
    "editable": true
   },
   "outputs": [],
   "source": [
    "d_test = xgb_.DMatrix(test_data)\n",
    "p_test = bst.predict(d_test)"
   ]
  },
  {
   "cell_type": "code",
   "execution_count": null,
   "metadata": {
    "collapsed": false,
    "deletable": true,
    "editable": true
   },
   "outputs": [],
   "source": [
    "p_test.shape"
   ]
  },
  {
   "cell_type": "code",
   "execution_count": null,
   "metadata": {
    "collapsed": false,
    "deletable": true,
    "editable": true
   },
   "outputs": [],
   "source": [
    "p_test"
   ]
  },
  {
   "cell_type": "code",
   "execution_count": null,
   "metadata": {
    "collapsed": false,
    "deletable": true,
    "editable": true
   },
   "outputs": [],
   "source": [
    "#make submission file and submit\n",
    "columns = ['segment']\n",
    "sub = pd.DataFrame(data=p_test, columns=columns)\n",
    "sub['ID'] = test_data.index.tolist()\n",
    "sub = sub[['ID','segment']]\n",
    "sub.to_csv(\"sub_hot_xgb.csv\", index=False)"
   ]
  },
  {
   "cell_type": "code",
   "execution_count": null,
   "metadata": {
    "collapsed": false,
    "deletable": true,
    "editable": true
   },
   "outputs": [],
   "source": [
    "sub.head()"
   ]
  },
  {
   "cell_type": "code",
   "execution_count": null,
   "metadata": {
    "collapsed": false,
    "deletable": true,
    "editable": true
   },
   "outputs": [],
   "source": [
    "import matplotlib.pyplot as plt \n",
    "xgb_.plot_importance(bst)"
   ]
  },
  {
   "cell_type": "code",
   "execution_count": null,
   "metadata": {
    "collapsed": false,
    "deletable": true,
    "editable": true
   },
   "outputs": [],
   "source": [
    "plt.show()"
   ]
  },
  {
   "cell_type": "code",
   "execution_count": null,
   "metadata": {
    "collapsed": true
   },
   "outputs": [],
   "source": []
  }
 ],
 "metadata": {
  "kernelspec": {
   "display_name": "Python 3",
   "language": "python",
   "name": "python3"
  },
  "language_info": {
   "codemirror_mode": {
    "name": "ipython",
    "version": 3
   },
   "file_extension": ".py",
   "mimetype": "text/x-python",
   "name": "python",
   "nbconvert_exporter": "python",
   "pygments_lexer": "ipython3",
   "version": "3.5.2"
  }
 },
 "nbformat": 4,
 "nbformat_minor": 2
}
